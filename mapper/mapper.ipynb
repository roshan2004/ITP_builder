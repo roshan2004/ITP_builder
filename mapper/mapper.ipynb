{
 "cells": [
  {
   "cell_type": "code",
   "execution_count": 73,
   "id": "0e679cc3",
   "metadata": {},
   "outputs": [],
   "source": [
    "import pypstruct\n",
    "import math"
   ]
  },
  {
   "cell_type": "code",
   "execution_count": 74,
   "id": "ab51810e",
   "metadata": {},
   "outputs": [],
   "source": [
    "pdb = \"graphene2by2.pdb\""
   ]
  },
  {
   "cell_type": "code",
   "execution_count": 75,
   "id": "039baf1d",
   "metadata": {},
   "outputs": [
    {
     "name": "stdout",
     "output_type": "stream",
     "text": [
      "dict_keys(['x', 'y', 'z', 'seqRes', 'chainID', 'resName', 'name'])\n",
      "x -12.335\n",
      "y -6.409\n",
      "z 0.277\n",
      "seqRes 2 \n",
      "chainID G\n",
      "resName GP0\n",
      "name C1\n"
     ]
    }
   ],
   "source": [
    "#Load pdf file with a pdb parser\n",
    "pdb_parsed = pypstruct.parseFilePDB(pdb)\n",
    "\n",
    "#Pdb file is loaded in a big dictionnary\n",
    "structure_dic = pdb_parsed.atomDictorize\n",
    "\n",
    "print( structure_dic.keys())\n",
    "\n",
    "for key in structure_dic:\n",
    "    print( key, structure_dic[key][10])"
   ]
  },
  {
   "cell_type": "code",
   "execution_count": 76,
   "id": "f0d0650c",
   "metadata": {},
   "outputs": [
    {
     "data": {
      "text/plain": [
       "dict_keys(['x', 'y', 'z', 'seqRes', 'chainID', 'resName', 'name'])"
      ]
     },
     "execution_count": 76,
     "metadata": {},
     "output_type": "execute_result"
    }
   ],
   "source": [
    "structure_dic.keys()"
   ]
  },
  {
   "cell_type": "code",
   "execution_count": 77,
   "id": "8d1cbdc9",
   "metadata": {},
   "outputs": [],
   "source": [
    "#Now we create a class \"atom\"\n",
    "#With position, name and more ...\n",
    "\n",
    "class atom:\n",
    "    def __init__(self, x , y , z , seqRes ,chainID, resName, name ):\n",
    "        self.x = x\n",
    "        self.y = y\n",
    "        self.z = z\n",
    "        self.seqRes = seqRes\n",
    "        self.chainID = chainID\n",
    "        self.resName = resName\n",
    "        self.name = name\n",
    "        self.occupied = False\n",
    "\n",
    "    def isCarbon(self):\n",
    "        return self.name.startswith('C')\n",
    "\n",
    "    def isHydrogen(self):\n",
    "        return self.name.startswith('H')\n",
    "    \n",
    "    def __repr__ (self):\n",
    "        return f\"Atom(name={self.name}, res={self.seqRes}, x={self.x}, y={self.y}, occupied={self.occupied})\"\n",
    "    def __eq__(self, atom):\n",
    "        return self.x == atom.x and self.y == atom.y and self.z == atom.z\n",
    "    "
   ]
  },
  {
   "cell_type": "code",
   "execution_count": 78,
   "id": "202741ef",
   "metadata": {},
   "outputs": [],
   "source": [
    "#Instanciate atom object with the dictionnary content and add in a list\n",
    "\n",
    "listAtoms = []\n",
    "numberOfAtom = len(structure_dic[\"name\"])\n",
    "\n",
    "for i in range(0, numberOfAtom ) :\n",
    "    \n",
    "    listAtoms.append( atom( structure_dic[\"x\"][i], \n",
    "                          structure_dic[\"y\"][i],\n",
    "                          structure_dic[\"z\"][i],\n",
    "                          structure_dic[\"seqRes\"][i],\n",
    "                          structure_dic[\"chainID\"][i],\n",
    "                          structure_dic[\"resName\"][i],\n",
    "                          structure_dic[\"name\"][i] ) )\n"
   ]
  },
  {
   "cell_type": "code",
   "execution_count": 79,
   "id": "3321b864",
   "metadata": {},
   "outputs": [
    {
     "name": "stdout",
     "output_type": "stream",
     "text": [
      "Number of H : 38\n"
     ]
    }
   ],
   "source": [
    "#subest hydrogen\n",
    "atoms_h = [atom for atom in listAtoms if atom.isHydrogen()]\n",
    "print( \"Number of H :\", len(atoms_h))"
   ]
  },
  {
   "cell_type": "code",
   "execution_count": 80,
   "id": "dbe651d7",
   "metadata": {},
   "outputs": [
    {
     "name": "stdout",
     "output_type": "stream",
     "text": [
      "Number of C : 198\n"
     ]
    }
   ],
   "source": [
    "#subest carbon\n",
    "atoms_c = [atom for atom in listAtoms if atom.isCarbon()]\n",
    "print(\"Number of C :\",  len(atoms_c))"
   ]
  },
  {
   "cell_type": "code",
   "execution_count": 81,
   "id": "33a397d0",
   "metadata": {},
   "outputs": [
    {
     "name": "stdout",
     "output_type": "stream",
     "text": [
      "Number minX 8 Number maxX 10\n",
      "Number minY 9 Number maxY 9\n"
     ]
    }
   ],
   "source": [
    "# trouver les 4 lignes de bords # find the 4 edge lines\n",
    "\n",
    "min_x = min(set([a.x for a in atoms_c]))\n",
    "list_min_x = [a for a in atoms_c if a.x == min_x ]\n",
    "\n",
    "\n",
    "max_x = max(set([a.x for a in atoms_c]))\n",
    "list_max_x = [a for a in atoms_c if a.x == max_x ]\n",
    "\n",
    "min_y = min(set([a.y for a in atoms_c]))\n",
    "list_min_y = [a for a in atoms_c if a.y == min_y ]\n",
    "\n",
    "\n",
    "max_y = max(set([a.y for a in atoms_c]))\n",
    "list_max_y = [a for a in atoms_c if a.y == max_y ]\n",
    "\n",
    "\n",
    "print(\"Number minX\" ,len(list_min_x) ,\"Number maxX\" ,len(list_max_x) )\n",
    "print(\"Number minY\" ,len(list_min_y) ,\"Number maxY\" ,len(list_max_y) )"
   ]
  },
  {
   "cell_type": "code",
   "execution_count": 82,
   "id": "5601b2b0",
   "metadata": {},
   "outputs": [
    {
     "name": "stdout",
     "output_type": "stream",
     "text": [
      "9 carbons in zigzag bottom\n",
      "9 carbons in zigzag top\n",
      "8 carbons in armchair bottom\n",
      "10 carbons in armchair top\n"
     ]
    }
   ],
   "source": [
    "# Find the zigzag lines \n",
    "# in zig zag line every distance between carbon is the same \n",
    "#check distance the 3 first atom \n",
    "\n",
    "def dist( atom1 , atom2) :\n",
    "    return round(math.sqrt( math.pow(atom1.x-atom2.x , 2) +  math.pow(atom1.y-atom2.y, 2) +  math.pow(atom1.z-atom2.z,2) ), 2)\n",
    "\n",
    "\n",
    "def isDistanceEqual( li ):\n",
    "    dist_1_2 = dist(li[0] , li[1])\n",
    "    dist_2_3 = dist(li[1] , li[2])\n",
    "    return dist_1_2 == dist_2_3\n",
    "\n",
    "# Sort each atom according to their coordinates (x or y) \n",
    "def sortListAtom(li):\n",
    "    if li[0].x == li[1].x : \n",
    "        return sorted(li, key=lambda atom: atom.y)\n",
    "    else:\n",
    "        return sorted(li, key=lambda atom: atom.x)\n",
    "\n",
    "# We have the edges, we need to define which one are armchair and zigzag.\n",
    "# In zigzag, distance between all carbons are the same and not in armchair.   \n",
    "\n",
    "for l in [list_min_x, list_min_y]:\n",
    "    if(isDistanceEqual(sortListAtom(l))):\n",
    "        zigzagBottom = l\n",
    "    else:\n",
    "        chairBottom = l\n",
    "\n",
    "for l in [list_max_x, list_max_y]:\n",
    "    if(isDistanceEqual(sortListAtom(l))):\n",
    "        zigzagTop = l\n",
    "    else:\n",
    "        chairTop = l\n",
    "\n",
    "print(len(zigzagBottom), \"carbons in zigzag bottom\")    \n",
    "print(len(zigzagTop), \"carbons in zigzag top\") \n",
    "print(len(chairBottom), \"carbons in armchair bottom\") \n",
    "print(len(chairTop), \"carbons in armchair top\") "
   ]
  },
  {
   "cell_type": "markdown",
   "id": "3b248ae7",
   "metadata": {},
   "source": [
    "### Define research function"
   ]
  },
  {
   "cell_type": "code",
   "execution_count": 83,
   "id": "d3b76cc0",
   "metadata": {},
   "outputs": [],
   "source": [
    "def findClosest(atom, listAtom):\n",
    "    # return a list of the closest free atom (min 1 element and maximum X elements)\n",
    "    #You can find the closest atom depending of the list that you give (only carbon or only hydrogene or both)\n",
    "    \n",
    "    start = 0 \n",
    "    #print(\"###\", atom)\n",
    "    #Find the first inoccupied carbon\n",
    "    for atom_c in listAtom:\n",
    "        if not atom_c.occupied and not atom == atom_c: \n",
    "            \n",
    "            min_distance = dist(atom, atom_c)\n",
    "            #print(atom_c, min_distance)\n",
    "            #( atom , distance from c)\n",
    "            closest = [ atom_c ]\n",
    "            break\n",
    "        start+=1\n",
    "    \n",
    "    for atom_c in listAtom[start+1:]:\n",
    "        \n",
    "        if not atom_c.occupied and not atom == atom_c: \n",
    "            current_dist = dist(atom, atom_c)\n",
    "            #if current_dist < 5:\n",
    "                #print(atom_c, current_dist)\n",
    "            if current_dist < min_distance:\n",
    "                min_distance = current_dist\n",
    "                closest = [ atom_c ]\n",
    "                \n",
    "            elif current_dist == min_distance:\n",
    "                closest.append( atom_c)\n",
    "             \n",
    "    \n",
    "    return closest"
   ]
  },
  {
   "cell_type": "markdown",
   "id": "6c8ccc3f",
   "metadata": {},
   "source": [
    "### Fill the armchair"
   ]
  },
  {
   "cell_type": "code",
   "execution_count": 84,
   "id": "c33a342f",
   "metadata": {
    "scrolled": true
   },
   "outputs": [
    {
     "name": "stdout",
     "output_type": "stream",
     "text": [
      "Atom(name=C8, res=1 , x=-12.335, y=-7.834, occupied=False) [Atom(name=H8, res=1 , x=-12.952, y=-8.191, occupied=False)]\n",
      "Atom(name=C1, res=2 , x=-12.335, y=-6.409, occupied=False) [Atom(name=H1, res=2 , x=-12.952, y=-6.053, occupied=False)]\n",
      "Atom(name=C8, res=2 , x=-12.335, y=-3.561, occupied=False) [Atom(name=H8, res=2 , x=-12.952, y=-3.918, occupied=False)]\n",
      "Atom(name=C1, res=3 , x=-12.335, y=-2.136, occupied=False) [Atom(name=H1, res=3 , x=-12.952, y=-1.78, occupied=False)]\n",
      "Atom(name=C8, res=3 , x=-12.335, y=0.711, occupied=False) [Atom(name=H8, res=3 , x=-12.952, y=0.355, occupied=False)]\n",
      "Atom(name=C1, res=4 , x=-12.335, y=2.137, occupied=False) [Atom(name=H1, res=4 , x=-12.952, y=2.493, occupied=False)]\n",
      "Atom(name=C8, res=4 , x=-12.335, y=4.985, occupied=False) [Atom(name=H8, res=4 , x=-12.952, y=4.628, occupied=False)]\n",
      "Atom(name=C1, res=5 , x=-12.335, y=6.409, occupied=False) [Atom(name=H1, res=5 , x=-12.952, y=6.766, occupied=False)]\n"
     ]
    }
   ],
   "source": [
    "for atom in chairBottom:\n",
    "    print(atom, findClosest(atom, atoms_h))"
   ]
  },
  {
   "cell_type": "code",
   "execution_count": 85,
   "id": "8028fb34",
   "metadata": {},
   "outputs": [],
   "source": [
    "# We take each pair of carbon and add the closest hydrogen to each to have a group of 4 atoms\n",
    "def groupArmchair(listC, listH):\n",
    "    step = 2\n",
    "    armchair_group = []\n",
    "    group = []\n",
    "    for atom_c in listC:\n",
    "        group.append(atom_c)\n",
    "        #This atom is not free anymore\n",
    "        atom_c.occupied = True\n",
    "        \n",
    "        closest_atoms_h = findClosest(atom_c, listH)\n",
    "        if len(closest_atoms_h) == 1:\n",
    "            atom_h = closest_atoms_h[0]\n",
    "            atom_h.occupied = True\n",
    "            group.append(atom_h)\n",
    "            step -= 1 \n",
    "            if step == 0:\n",
    "                armchair_group.append(group)\n",
    "                group = []\n",
    "                step = 2\n",
    "        else :\n",
    "            print( \"WTF\" , closest_atoms_h)\n",
    "    return armchair_group\n",
    "    "
   ]
  },
  {
   "cell_type": "code",
   "execution_count": 86,
   "id": "c98bf549",
   "metadata": {},
   "outputs": [
    {
     "data": {
      "text/plain": [
       "[[Atom(name=C8, res=1 , x=-12.335, y=-7.834, occupied=True),\n",
       "  Atom(name=H8, res=1 , x=-12.952, y=-8.191, occupied=True),\n",
       "  Atom(name=C1, res=2 , x=-12.335, y=-6.409, occupied=True),\n",
       "  Atom(name=H1, res=2 , x=-12.952, y=-6.053, occupied=True)],\n",
       " [Atom(name=C8, res=2 , x=-12.335, y=-3.561, occupied=True),\n",
       "  Atom(name=H8, res=2 , x=-12.952, y=-3.918, occupied=True),\n",
       "  Atom(name=C1, res=3 , x=-12.335, y=-2.136, occupied=True),\n",
       "  Atom(name=H1, res=3 , x=-12.952, y=-1.78, occupied=True)],\n",
       " [Atom(name=C8, res=3 , x=-12.335, y=0.711, occupied=True),\n",
       "  Atom(name=H8, res=3 , x=-12.952, y=0.355, occupied=True),\n",
       "  Atom(name=C1, res=4 , x=-12.335, y=2.137, occupied=True),\n",
       "  Atom(name=H1, res=4 , x=-12.952, y=2.493, occupied=True)],\n",
       " [Atom(name=C8, res=4 , x=-12.335, y=4.985, occupied=True),\n",
       "  Atom(name=H8, res=4 , x=-12.952, y=4.628, occupied=True),\n",
       "  Atom(name=C1, res=5 , x=-12.335, y=6.409, occupied=True),\n",
       "  Atom(name=H1, res=5 , x=-12.952, y=6.766, occupied=True)],\n",
       " [Atom(name=C4, res=21 , x=11.102, y=-9.97, occupied=True),\n",
       "  Atom(name=H4, res=21 , x=11.719, y=-10.326, occupied=True),\n",
       "  Atom(name=C5, res=21 , x=11.102, y=-8.546, occupied=True),\n",
       "  Atom(name=H5, res=21 , x=11.719, y=-8.191, occupied=True)],\n",
       " [Atom(name=C4, res=22 , x=11.102, y=-5.697, occupied=True),\n",
       "  Atom(name=H4, res=22 , x=11.719, y=-6.053, occupied=True),\n",
       "  Atom(name=C5, res=22 , x=11.102, y=-4.273, occupied=True),\n",
       "  Atom(name=H5, res=22 , x=11.719, y=-3.917, occupied=True)],\n",
       " [Atom(name=C4, res=23 , x=11.102, y=-1.425, occupied=True),\n",
       "  Atom(name=H4, res=23 , x=11.719, y=-1.78, occupied=True),\n",
       "  Atom(name=C5, res=23 , x=11.102, y=-0.001, occupied=True),\n",
       "  Atom(name=H5, res=23 , x=11.719, y=0.356, occupied=True)],\n",
       " [Atom(name=C4, res=24 , x=11.102, y=2.849, occupied=True),\n",
       "  Atom(name=H4, res=24 , x=11.719, y=2.493, occupied=True),\n",
       "  Atom(name=C5, res=24 , x=11.102, y=4.273, occupied=True),\n",
       "  Atom(name=H5, res=24 , x=11.719, y=4.629, occupied=True)],\n",
       " [Atom(name=C4, res=25 , x=11.102, y=7.121, occupied=True),\n",
       "  Atom(name=H4, res=25 , x=11.719, y=6.766, occupied=True),\n",
       "  Atom(name=C5, res=25 , x=11.102, y=8.545, occupied=True),\n",
       "  Atom(name=H5, res=25 , x=11.719, y=8.902, occupied=True)]]"
      ]
     },
     "execution_count": 86,
     "metadata": {},
     "output_type": "execute_result"
    }
   ],
   "source": [
    "#We add armchair beads to list of all beads\n",
    "listBeads = []\n",
    "listBeads += groupArmchair(chairBottom, atoms_h)\n",
    "listBeads += groupArmchair(chairTop, atoms_h)\n",
    "\n",
    "listBeads"
   ]
  },
  {
   "cell_type": "markdown",
   "id": "3b462d34",
   "metadata": {},
   "source": [
    "## Fill the zigzag"
   ]
  },
  {
   "cell_type": "code",
   "execution_count": 87,
   "id": "f363be6d",
   "metadata": {},
   "outputs": [
    {
     "name": "stdout",
     "output_type": "stream",
     "text": [
      "[Atom(name=C3, res=1 , x=-9.868, y=-10.682, occupied=False), Atom(name=C1, res=6 , x=-7.401, y=-10.682, occupied=False), Atom(name=C3, res=6 , x=-4.934, y=-10.682, occupied=False), Atom(name=C1, res=11 , x=-2.467, y=-10.682, occupied=False), Atom(name=C3, res=11 , x=0.0, y=-10.682, occupied=False), Atom(name=C1, res=16 , x=2.467, y=-10.682, occupied=False), Atom(name=C3, res=16 , x=4.934, y=-10.682, occupied=False), Atom(name=C1, res=21 , x=7.401, y=-10.682, occupied=False), Atom(name=C3, res=21 , x=9.868, y=-10.682, occupied=False)]\n"
     ]
    }
   ],
   "source": [
    "#For the zig zag part, beads are compposed by \n",
    "# 1 H and 2 C\n",
    "# and for the last beads 2H and 2C\n",
    "\n",
    "\n",
    "print(zigzagBottom)\n",
    "\n",
    "def groupZigzag(atomsZigzag, listCarbons, listHydrogens):\n",
    "    zigzag_group = []\n",
    "    \n",
    "    for atom in atomsZigzag:\n",
    "        bead = []\n",
    "        \n",
    "        closestC = findClosest( atom, listCarbons )\n",
    "        closestH = findClosest( atom, listHydrogens )\n",
    "        \n",
    "        #Now we need to check if closest Carbon(s) are bind to an hydrogen \n",
    "        #If they are -> beads 2C2H\n",
    "        \n",
    "        \n",
    "        #try to find the type of beads H-C-C-H \n",
    "        for c in closestC :\n",
    "            for x in findClosest( c, listAtoms ):\n",
    "                if x.isHydrogen() :\n",
    "                    bead = [atom, closestH[0], c, x] \n",
    "                    \n",
    "        if bead == []:\n",
    "            bead = [atom, closestH[0], closestC[0]]\n",
    "              \n",
    "        for b in bead:\n",
    "            b.occupied = True\n",
    "        zigzag_group.append(bead)\n",
    "    #si c'est une beads normal de 1h and 2c \n",
    "    \n",
    "    #si c'est une beads de 2c et 2h faire la verif\n",
    "    \n",
    "    #init list of atoms, each element is a list of atoms who are in one bedas\n",
    "\n",
    "    return zigzag_group\n",
    "    "
   ]
  },
  {
   "cell_type": "code",
   "execution_count": 88,
   "id": "70ea96f0",
   "metadata": {},
   "outputs": [
    {
     "data": {
      "text/plain": [
       "[[Atom(name=C3, res=1 , x=-9.868, y=-10.682, occupied=True),\n",
       "  Atom(name=H3, res=1 , x=-9.869, y=-11.394, occupied=True),\n",
       "  Atom(name=C2, res=1 , x=-11.101, y=-9.97, occupied=True),\n",
       "  Atom(name=H2, res=1 , x=-11.718, y=-10.326, occupied=True)],\n",
       " [Atom(name=C1, res=6 , x=-7.401, y=-10.682, occupied=True),\n",
       "  Atom(name=H1, res=6 , x=-7.402, y=-11.394, occupied=True),\n",
       "  Atom(name=C4, res=1 , x=-8.634, y=-9.97, occupied=True)],\n",
       " [Atom(name=C3, res=6 , x=-4.934, y=-10.682, occupied=True),\n",
       "  Atom(name=H3, res=6 , x=-4.935, y=-11.394, occupied=True),\n",
       "  Atom(name=C2, res=6 , x=-6.167, y=-9.97, occupied=True)],\n",
       " [Atom(name=C1, res=11 , x=-2.467, y=-10.682, occupied=True),\n",
       "  Atom(name=H1, res=11 , x=-2.468, y=-11.394, occupied=True),\n",
       "  Atom(name=C4, res=6 , x=-3.7, y=-9.97, occupied=True)],\n",
       " [Atom(name=C3, res=11 , x=0.0, y=-10.682, occupied=True),\n",
       "  Atom(name=H3, res=11 , x=-0.001, y=-11.394, occupied=True),\n",
       "  Atom(name=C2, res=11 , x=-1.233, y=-9.97, occupied=True)],\n",
       " [Atom(name=C1, res=16 , x=2.467, y=-10.682, occupied=True),\n",
       "  Atom(name=H1, res=16 , x=2.466, y=-11.394, occupied=True),\n",
       "  Atom(name=C4, res=11 , x=1.234, y=-9.97, occupied=True)],\n",
       " [Atom(name=C3, res=16 , x=4.934, y=-10.682, occupied=True),\n",
       "  Atom(name=H3, res=16 , x=4.933, y=-11.394, occupied=True),\n",
       "  Atom(name=C2, res=16 , x=3.701, y=-9.97, occupied=True)],\n",
       " [Atom(name=C1, res=21 , x=7.401, y=-10.682, occupied=True),\n",
       "  Atom(name=H1, res=21 , x=7.4, y=-11.394, occupied=True),\n",
       "  Atom(name=C4, res=16 , x=6.168, y=-9.97, occupied=True)],\n",
       " [Atom(name=C3, res=21 , x=9.868, y=-10.682, occupied=True),\n",
       "  Atom(name=H3, res=21 , x=9.867, y=-11.394, occupied=True),\n",
       "  Atom(name=C2, res=21 , x=8.635, y=-9.97, occupied=True)]]"
      ]
     },
     "execution_count": 88,
     "metadata": {},
     "output_type": "execute_result"
    }
   ],
   "source": [
    "zigzagBottom_group = groupZigzag(zigzagBottom, atoms_c, atoms_h)\n",
    "listBeads.append( zigzagBottom_group)\n",
    "zigzagBottom_group"
   ]
  },
  {
   "cell_type": "code",
   "execution_count": 89,
   "id": "42f4ab51",
   "metadata": {},
   "outputs": [
    {
     "data": {
      "text/plain": [
       "[[Atom(name=C6, res=5 , x=-9.868, y=9.257, occupied=True),\n",
       "  Atom(name=H6, res=5 , x=-9.869, y=9.97, occupied=True),\n",
       "  Atom(name=C7, res=5 , x=-11.101, y=8.545, occupied=True),\n",
       "  Atom(name=H7, res=5 , x=-11.718, y=8.902, occupied=True)],\n",
       " [Atom(name=C6, res=10 , x=-4.934, y=9.257, occupied=True),\n",
       "  Atom(name=H6, res=10 , x=-4.935, y=9.97, occupied=True),\n",
       "  Atom(name=C5, res=10 , x=-3.7, y=8.545, occupied=True)],\n",
       " [Atom(name=C8, res=10 , x=-7.401, y=9.257, occupied=True),\n",
       "  Atom(name=H8, res=10 , x=-7.402, y=9.97, occupied=True),\n",
       "  Atom(name=C5, res=5 , x=-8.634, y=8.545, occupied=True)],\n",
       " [Atom(name=C6, res=15 , x=0.0, y=9.257, occupied=True),\n",
       "  Atom(name=H6, res=15 , x=-0.001, y=9.97, occupied=True),\n",
       "  Atom(name=C5, res=15 , x=1.234, y=8.545, occupied=True)],\n",
       " [Atom(name=C8, res=15 , x=-2.467, y=9.257, occupied=True),\n",
       "  Atom(name=H8, res=15 , x=-2.468, y=9.97, occupied=True),\n",
       "  Atom(name=C7, res=15 , x=-1.233, y=8.545, occupied=True)],\n",
       " [Atom(name=C6, res=20 , x=4.934, y=9.257, occupied=True),\n",
       "  Atom(name=H6, res=20 , x=4.933, y=9.97, occupied=True),\n",
       "  Atom(name=C5, res=20 , x=6.168, y=8.545, occupied=True)],\n",
       " [Atom(name=C8, res=20 , x=2.467, y=9.257, occupied=True),\n",
       "  Atom(name=H8, res=20 , x=2.466, y=9.97, occupied=True),\n",
       "  Atom(name=C7, res=20 , x=3.701, y=8.545, occupied=True)],\n",
       " [Atom(name=C6, res=25 , x=9.868, y=9.257, occupied=True),\n",
       "  Atom(name=H6, res=25 , x=9.867, y=9.97, occupied=True),\n",
       "  Atom(name=C7, res=25 , x=8.635, y=8.545, occupied=True)],\n",
       " [Atom(name=C8, res=25 , x=7.401, y=9.257, occupied=True),\n",
       "  Atom(name=H8, res=25 , x=7.4, y=9.97, occupied=True),\n",
       "  Atom(name=C4, res=20 , x=6.168, y=7.121, occupied=True)]]"
      ]
     },
     "execution_count": 89,
     "metadata": {},
     "output_type": "execute_result"
    }
   ],
   "source": [
    "zigzagTop_group =groupZigzag(zigzagTop, atoms_c, atoms_h)\n",
    "listBeads.append( zigzagTop_group)\n",
    "zigzagTop_group"
   ]
  },
  {
   "cell_type": "code",
   "execution_count": 90,
   "id": "891e84c5",
   "metadata": {},
   "outputs": [
    {
     "data": {
      "text/plain": [
       "[[Atom(name=C8, res=1 , x=-12.335, y=-7.834, occupied=True),\n",
       "  Atom(name=H8, res=1 , x=-12.952, y=-8.191, occupied=True),\n",
       "  Atom(name=C1, res=2 , x=-12.335, y=-6.409, occupied=True),\n",
       "  Atom(name=H1, res=2 , x=-12.952, y=-6.053, occupied=True)],\n",
       " [Atom(name=C8, res=2 , x=-12.335, y=-3.561, occupied=True),\n",
       "  Atom(name=H8, res=2 , x=-12.952, y=-3.918, occupied=True),\n",
       "  Atom(name=C1, res=3 , x=-12.335, y=-2.136, occupied=True),\n",
       "  Atom(name=H1, res=3 , x=-12.952, y=-1.78, occupied=True)],\n",
       " [Atom(name=C8, res=3 , x=-12.335, y=0.711, occupied=True),\n",
       "  Atom(name=H8, res=3 , x=-12.952, y=0.355, occupied=True),\n",
       "  Atom(name=C1, res=4 , x=-12.335, y=2.137, occupied=True),\n",
       "  Atom(name=H1, res=4 , x=-12.952, y=2.493, occupied=True)],\n",
       " [Atom(name=C8, res=4 , x=-12.335, y=4.985, occupied=True),\n",
       "  Atom(name=H8, res=4 , x=-12.952, y=4.628, occupied=True),\n",
       "  Atom(name=C1, res=5 , x=-12.335, y=6.409, occupied=True),\n",
       "  Atom(name=H1, res=5 , x=-12.952, y=6.766, occupied=True)],\n",
       " [Atom(name=C4, res=21 , x=11.102, y=-9.97, occupied=True),\n",
       "  Atom(name=H4, res=21 , x=11.719, y=-10.326, occupied=True),\n",
       "  Atom(name=C5, res=21 , x=11.102, y=-8.546, occupied=True),\n",
       "  Atom(name=H5, res=21 , x=11.719, y=-8.191, occupied=True)],\n",
       " [Atom(name=C4, res=22 , x=11.102, y=-5.697, occupied=True),\n",
       "  Atom(name=H4, res=22 , x=11.719, y=-6.053, occupied=True),\n",
       "  Atom(name=C5, res=22 , x=11.102, y=-4.273, occupied=True),\n",
       "  Atom(name=H5, res=22 , x=11.719, y=-3.917, occupied=True)],\n",
       " [Atom(name=C4, res=23 , x=11.102, y=-1.425, occupied=True),\n",
       "  Atom(name=H4, res=23 , x=11.719, y=-1.78, occupied=True),\n",
       "  Atom(name=C5, res=23 , x=11.102, y=-0.001, occupied=True),\n",
       "  Atom(name=H5, res=23 , x=11.719, y=0.356, occupied=True)],\n",
       " [Atom(name=C4, res=24 , x=11.102, y=2.849, occupied=True),\n",
       "  Atom(name=H4, res=24 , x=11.719, y=2.493, occupied=True),\n",
       "  Atom(name=C5, res=24 , x=11.102, y=4.273, occupied=True),\n",
       "  Atom(name=H5, res=24 , x=11.719, y=4.629, occupied=True)],\n",
       " [Atom(name=C4, res=25 , x=11.102, y=7.121, occupied=True),\n",
       "  Atom(name=H4, res=25 , x=11.719, y=6.766, occupied=True),\n",
       "  Atom(name=C5, res=25 , x=11.102, y=8.545, occupied=True),\n",
       "  Atom(name=H5, res=25 , x=11.719, y=8.902, occupied=True)],\n",
       " [[Atom(name=C3, res=1 , x=-9.868, y=-10.682, occupied=True),\n",
       "   Atom(name=H3, res=1 , x=-9.869, y=-11.394, occupied=True),\n",
       "   Atom(name=C2, res=1 , x=-11.101, y=-9.97, occupied=True),\n",
       "   Atom(name=H2, res=1 , x=-11.718, y=-10.326, occupied=True)],\n",
       "  [Atom(name=C1, res=6 , x=-7.401, y=-10.682, occupied=True),\n",
       "   Atom(name=H1, res=6 , x=-7.402, y=-11.394, occupied=True),\n",
       "   Atom(name=C4, res=1 , x=-8.634, y=-9.97, occupied=True)],\n",
       "  [Atom(name=C3, res=6 , x=-4.934, y=-10.682, occupied=True),\n",
       "   Atom(name=H3, res=6 , x=-4.935, y=-11.394, occupied=True),\n",
       "   Atom(name=C2, res=6 , x=-6.167, y=-9.97, occupied=True)],\n",
       "  [Atom(name=C1, res=11 , x=-2.467, y=-10.682, occupied=True),\n",
       "   Atom(name=H1, res=11 , x=-2.468, y=-11.394, occupied=True),\n",
       "   Atom(name=C4, res=6 , x=-3.7, y=-9.97, occupied=True)],\n",
       "  [Atom(name=C3, res=11 , x=0.0, y=-10.682, occupied=True),\n",
       "   Atom(name=H3, res=11 , x=-0.001, y=-11.394, occupied=True),\n",
       "   Atom(name=C2, res=11 , x=-1.233, y=-9.97, occupied=True)],\n",
       "  [Atom(name=C1, res=16 , x=2.467, y=-10.682, occupied=True),\n",
       "   Atom(name=H1, res=16 , x=2.466, y=-11.394, occupied=True),\n",
       "   Atom(name=C4, res=11 , x=1.234, y=-9.97, occupied=True)],\n",
       "  [Atom(name=C3, res=16 , x=4.934, y=-10.682, occupied=True),\n",
       "   Atom(name=H3, res=16 , x=4.933, y=-11.394, occupied=True),\n",
       "   Atom(name=C2, res=16 , x=3.701, y=-9.97, occupied=True)],\n",
       "  [Atom(name=C1, res=21 , x=7.401, y=-10.682, occupied=True),\n",
       "   Atom(name=H1, res=21 , x=7.4, y=-11.394, occupied=True),\n",
       "   Atom(name=C4, res=16 , x=6.168, y=-9.97, occupied=True)],\n",
       "  [Atom(name=C3, res=21 , x=9.868, y=-10.682, occupied=True),\n",
       "   Atom(name=H3, res=21 , x=9.867, y=-11.394, occupied=True),\n",
       "   Atom(name=C2, res=21 , x=8.635, y=-9.97, occupied=True)]],\n",
       " [[Atom(name=C6, res=5 , x=-9.868, y=9.257, occupied=True),\n",
       "   Atom(name=H6, res=5 , x=-9.869, y=9.97, occupied=True),\n",
       "   Atom(name=C7, res=5 , x=-11.101, y=8.545, occupied=True),\n",
       "   Atom(name=H7, res=5 , x=-11.718, y=8.902, occupied=True)],\n",
       "  [Atom(name=C6, res=10 , x=-4.934, y=9.257, occupied=True),\n",
       "   Atom(name=H6, res=10 , x=-4.935, y=9.97, occupied=True),\n",
       "   Atom(name=C5, res=10 , x=-3.7, y=8.545, occupied=True)],\n",
       "  [Atom(name=C8, res=10 , x=-7.401, y=9.257, occupied=True),\n",
       "   Atom(name=H8, res=10 , x=-7.402, y=9.97, occupied=True),\n",
       "   Atom(name=C5, res=5 , x=-8.634, y=8.545, occupied=True)],\n",
       "  [Atom(name=C6, res=15 , x=0.0, y=9.257, occupied=True),\n",
       "   Atom(name=H6, res=15 , x=-0.001, y=9.97, occupied=True),\n",
       "   Atom(name=C5, res=15 , x=1.234, y=8.545, occupied=True)],\n",
       "  [Atom(name=C8, res=15 , x=-2.467, y=9.257, occupied=True),\n",
       "   Atom(name=H8, res=15 , x=-2.468, y=9.97, occupied=True),\n",
       "   Atom(name=C7, res=15 , x=-1.233, y=8.545, occupied=True)],\n",
       "  [Atom(name=C6, res=20 , x=4.934, y=9.257, occupied=True),\n",
       "   Atom(name=H6, res=20 , x=4.933, y=9.97, occupied=True),\n",
       "   Atom(name=C5, res=20 , x=6.168, y=8.545, occupied=True)],\n",
       "  [Atom(name=C8, res=20 , x=2.467, y=9.257, occupied=True),\n",
       "   Atom(name=H8, res=20 , x=2.466, y=9.97, occupied=True),\n",
       "   Atom(name=C7, res=20 , x=3.701, y=8.545, occupied=True)],\n",
       "  [Atom(name=C6, res=25 , x=9.868, y=9.257, occupied=True),\n",
       "   Atom(name=H6, res=25 , x=9.867, y=9.97, occupied=True),\n",
       "   Atom(name=C7, res=25 , x=8.635, y=8.545, occupied=True)],\n",
       "  [Atom(name=C8, res=25 , x=7.401, y=9.257, occupied=True),\n",
       "   Atom(name=H8, res=25 , x=7.4, y=9.97, occupied=True),\n",
       "   Atom(name=C4, res=20 , x=6.168, y=7.121, occupied=True)]]]"
      ]
     },
     "execution_count": 90,
     "metadata": {},
     "output_type": "execute_result"
    }
   ],
   "source": [
    "listBeads"
   ]
  },
  {
   "cell_type": "code",
   "execution_count": 91,
   "id": "c6124615",
   "metadata": {},
   "outputs": [
    {
     "name": "stdout",
     "output_type": "stream",
     "text": [
      "11\n"
     ]
    }
   ],
   "source": [
    "print(len(listBeads))"
   ]
  },
  {
   "cell_type": "code",
   "execution_count": 92,
   "id": "a9e6cb06",
   "metadata": {},
   "outputs": [
    {
     "data": {
      "text/plain": [
       "9"
      ]
     },
     "execution_count": 92,
     "metadata": {},
     "output_type": "execute_result"
    }
   ],
   "source": [
    "len(zigzagTop_group)"
   ]
  },
  {
   "cell_type": "code",
   "execution_count": 93,
   "id": "0709e299",
   "metadata": {},
   "outputs": [
    {
     "data": {
      "text/plain": [
       "9"
      ]
     },
     "execution_count": 93,
     "metadata": {},
     "output_type": "execute_result"
    }
   ],
   "source": [
    "len(zigzagBottom_group)"
   ]
  },
  {
   "cell_type": "code",
   "execution_count": 94,
   "id": "d912d890",
   "metadata": {},
   "outputs": [
    {
     "data": {
      "text/plain": [
       "[Atom(name=C3, res=1 , x=-9.868, y=-10.682, occupied=True),\n",
       " Atom(name=H3, res=1 , x=-9.869, y=-11.394, occupied=True),\n",
       " Atom(name=C2, res=1 , x=-11.101, y=-9.97, occupied=True),\n",
       " Atom(name=H2, res=1 , x=-11.718, y=-10.326, occupied=True)]"
      ]
     },
     "execution_count": 94,
     "metadata": {},
     "output_type": "execute_result"
    }
   ],
   "source": [
    "zigzagBottom_group[0]"
   ]
  },
  {
   "cell_type": "code",
   "execution_count": 95,
   "id": "edd74a37",
   "metadata": {},
   "outputs": [
    {
     "data": {
      "text/plain": [
       "[Atom(name=C1, res=6 , x=-7.401, y=-10.682, occupied=True),\n",
       " Atom(name=H1, res=6 , x=-7.402, y=-11.394, occupied=True),\n",
       " Atom(name=C4, res=1 , x=-8.634, y=-9.97, occupied=True)]"
      ]
     },
     "execution_count": 95,
     "metadata": {},
     "output_type": "execute_result"
    }
   ],
   "source": [
    "zigzagBottom_group[1]"
   ]
  },
  {
   "cell_type": "code",
   "execution_count": 96,
   "id": "006e45a1",
   "metadata": {},
   "outputs": [
    {
     "data": {
      "text/plain": [
       "[Atom(name=C3, res=21 , x=9.868, y=-10.682, occupied=True),\n",
       " Atom(name=H3, res=21 , x=9.867, y=-11.394, occupied=True),\n",
       " Atom(name=C2, res=21 , x=8.635, y=-9.97, occupied=True)]"
      ]
     },
     "execution_count": 96,
     "metadata": {},
     "output_type": "execute_result"
    }
   ],
   "source": [
    "zigzagBottom_group[-1]"
   ]
  },
  {
   "cell_type": "code",
   "execution_count": 97,
   "id": "4b24a96e",
   "metadata": {},
   "outputs": [
    {
     "data": {
      "text/plain": [
       "[Atom(name=C8, res=25 , x=7.401, y=9.257, occupied=True),\n",
       " Atom(name=H8, res=25 , x=7.4, y=9.97, occupied=True),\n",
       " Atom(name=C4, res=20 , x=6.168, y=7.121, occupied=True)]"
      ]
     },
     "execution_count": 97,
     "metadata": {},
     "output_type": "execute_result"
    }
   ],
   "source": [
    "zigzagTop_group[-1]"
   ]
  },
  {
   "cell_type": "code",
   "execution_count": 98,
   "id": "11bbb24b",
   "metadata": {},
   "outputs": [
    {
     "data": {
      "text/plain": [
       "[Atom(name=C6, res=5 , x=-9.868, y=9.257, occupied=True),\n",
       " Atom(name=H6, res=5 , x=-9.869, y=9.97, occupied=True),\n",
       " Atom(name=C7, res=5 , x=-11.101, y=8.545, occupied=True),\n",
       " Atom(name=H7, res=5 , x=-11.718, y=8.902, occupied=True)]"
      ]
     },
     "execution_count": 98,
     "metadata": {},
     "output_type": "execute_result"
    }
   ],
   "source": [
    "zigzagTop_group[0]"
   ]
  },
  {
   "cell_type": "code",
   "execution_count": 99,
   "id": "974bf512",
   "metadata": {},
   "outputs": [
    {
     "data": {
      "text/plain": [
       "[[Atom(name=C6, res=5 , x=-9.868, y=9.257, occupied=True),\n",
       "  Atom(name=H6, res=5 , x=-9.869, y=9.97, occupied=True),\n",
       "  Atom(name=C7, res=5 , x=-11.101, y=8.545, occupied=True),\n",
       "  Atom(name=H7, res=5 , x=-11.718, y=8.902, occupied=True)],\n",
       " [Atom(name=C6, res=10 , x=-4.934, y=9.257, occupied=True),\n",
       "  Atom(name=H6, res=10 , x=-4.935, y=9.97, occupied=True),\n",
       "  Atom(name=C5, res=10 , x=-3.7, y=8.545, occupied=True)],\n",
       " [Atom(name=C8, res=10 , x=-7.401, y=9.257, occupied=True),\n",
       "  Atom(name=H8, res=10 , x=-7.402, y=9.97, occupied=True),\n",
       "  Atom(name=C5, res=5 , x=-8.634, y=8.545, occupied=True)],\n",
       " [Atom(name=C6, res=15 , x=0.0, y=9.257, occupied=True),\n",
       "  Atom(name=H6, res=15 , x=-0.001, y=9.97, occupied=True),\n",
       "  Atom(name=C5, res=15 , x=1.234, y=8.545, occupied=True)],\n",
       " [Atom(name=C8, res=15 , x=-2.467, y=9.257, occupied=True),\n",
       "  Atom(name=H8, res=15 , x=-2.468, y=9.97, occupied=True),\n",
       "  Atom(name=C7, res=15 , x=-1.233, y=8.545, occupied=True)],\n",
       " [Atom(name=C6, res=20 , x=4.934, y=9.257, occupied=True),\n",
       "  Atom(name=H6, res=20 , x=4.933, y=9.97, occupied=True),\n",
       "  Atom(name=C5, res=20 , x=6.168, y=8.545, occupied=True)],\n",
       " [Atom(name=C8, res=20 , x=2.467, y=9.257, occupied=True),\n",
       "  Atom(name=H8, res=20 , x=2.466, y=9.97, occupied=True),\n",
       "  Atom(name=C7, res=20 , x=3.701, y=8.545, occupied=True)],\n",
       " [Atom(name=C6, res=25 , x=9.868, y=9.257, occupied=True),\n",
       "  Atom(name=H6, res=25 , x=9.867, y=9.97, occupied=True),\n",
       "  Atom(name=C7, res=25 , x=8.635, y=8.545, occupied=True)],\n",
       " [Atom(name=C8, res=25 , x=7.401, y=9.257, occupied=True),\n",
       "  Atom(name=H8, res=25 , x=7.4, y=9.97, occupied=True),\n",
       "  Atom(name=C4, res=20 , x=6.168, y=7.121, occupied=True)]]"
      ]
     },
     "execution_count": 99,
     "metadata": {},
     "output_type": "execute_result"
    }
   ],
   "source": [
    "zigzagTop_group"
   ]
  },
  {
   "cell_type": "code",
   "execution_count": 100,
   "id": "226cc3ab",
   "metadata": {},
   "outputs": [
    {
     "data": {
      "text/plain": [
       "-9.868"
      ]
     },
     "execution_count": 100,
     "metadata": {},
     "output_type": "execute_result"
    }
   ],
   "source": [
    "zigzagTop_group[0][0].x"
   ]
  },
  {
   "cell_type": "code",
   "execution_count": 101,
   "id": "03cddab6",
   "metadata": {},
   "outputs": [],
   "source": [
    "import numpy as np"
   ]
  },
  {
   "cell_type": "code",
   "execution_count": 102,
   "id": "11ce68c0",
   "metadata": {},
   "outputs": [],
   "source": [
    "coords = []\n",
    "for i in zigzagTop_group:\n",
    "    \n",
    "    x = []\n",
    "    y = []\n",
    "    for j in range(len(i)):\n",
    "        x.append(i[j].x)\n",
    "        y.append(i[j].y)\n",
    "    coords.append((sum(x)/len(x), sum(y)/len(y), 0.280))"
   ]
  },
  {
   "cell_type": "code",
   "execution_count": 103,
   "id": "6cc29cdc",
   "metadata": {},
   "outputs": [
    {
     "data": {
      "text/plain": [
       "[(-10.639, 9.1685, 0.28),\n",
       " (-4.523, 9.257333333333333, 0.28),\n",
       " (-7.812333333333334, 9.257333333333333, 0.28),\n",
       " (0.41100000000000003, 9.257333333333333, 0.28),\n",
       " (-2.0560000000000005, 9.257333333333333, 0.28),\n",
       " (5.345, 9.257333333333333, 0.28),\n",
       " (2.878, 9.257333333333333, 0.28),\n",
       " (9.456666666666665, 9.257333333333333, 0.28),\n",
       " (6.989666666666667, 8.782666666666666, 0.28)]"
      ]
     },
     "execution_count": 103,
     "metadata": {},
     "output_type": "execute_result"
    }
   ],
   "source": [
    "coords"
   ]
  },
  {
   "cell_type": "code",
   "execution_count": 104,
   "id": "60662ecb",
   "metadata": {},
   "outputs": [
    {
     "data": {
      "text/plain": [
       "[(-10.639, 9.1685, 0.28),\n",
       " (-7.812333333333334, 9.257333333333333, 0.28),\n",
       " (-4.523, 9.257333333333333, 0.28),\n",
       " (-2.0560000000000005, 9.257333333333333, 0.28),\n",
       " (0.41100000000000003, 9.257333333333333, 0.28),\n",
       " (2.878, 9.257333333333333, 0.28),\n",
       " (5.345, 9.257333333333333, 0.28),\n",
       " (6.989666666666667, 8.782666666666666, 0.28),\n",
       " (9.456666666666665, 9.257333333333333, 0.28)]"
      ]
     },
     "execution_count": 104,
     "metadata": {},
     "output_type": "execute_result"
    }
   ],
   "source": [
    "sorted(coords, key = lambda x: x[0])"
   ]
  },
  {
   "cell_type": "code",
   "execution_count": 105,
   "id": "a9384e38",
   "metadata": {},
   "outputs": [],
   "source": [
    "coords = []\n",
    "for i in zigzagBottom_group:\n",
    "    x = []\n",
    "    y = []\n",
    "    for j in range(len(i)):\n",
    "        x.append(i[j].x)\n",
    "        y.append(i[j].y)\n",
    "    coords.append((sum(x)/len(x), sum(y)/len(y), 0.280))\n",
    "    "
   ]
  },
  {
   "cell_type": "code",
   "execution_count": 106,
   "id": "ec9a533e",
   "metadata": {},
   "outputs": [
    {
     "data": {
      "text/plain": [
       "[(-10.639, -10.593, 0.28),\n",
       " (-7.812333333333334, -10.682, 0.28),\n",
       " (-5.3453333333333335, -10.682, 0.28),\n",
       " (-2.878333333333334, -10.682, 0.28),\n",
       " (-0.41133333333333333, -10.682, 0.28),\n",
       " (2.0556666666666668, -10.682, 0.28),\n",
       " (4.522666666666667, -10.682, 0.28),\n",
       " (6.989666666666667, -10.682, 0.28),\n",
       " (9.456666666666665, -10.682, 0.28)]"
      ]
     },
     "execution_count": 106,
     "metadata": {},
     "output_type": "execute_result"
    }
   ],
   "source": [
    "coords"
   ]
  },
  {
   "cell_type": "code",
   "execution_count": 107,
   "id": "e57f1eb9",
   "metadata": {},
   "outputs": [
    {
     "data": {
      "text/plain": [
       "[(-10.639, -10.593, 0.28),\n",
       " (-7.812333333333334, -10.682, 0.28),\n",
       " (-5.3453333333333335, -10.682, 0.28),\n",
       " (-2.878333333333334, -10.682, 0.28),\n",
       " (-0.41133333333333333, -10.682, 0.28),\n",
       " (2.0556666666666668, -10.682, 0.28),\n",
       " (4.522666666666667, -10.682, 0.28),\n",
       " (6.989666666666667, -10.682, 0.28),\n",
       " (9.456666666666665, -10.682, 0.28)]"
      ]
     },
     "execution_count": 107,
     "metadata": {},
     "output_type": "execute_result"
    }
   ],
   "source": [
    "sorted(coords, key = lambda x: x[0])"
   ]
  },
  {
   "cell_type": "code",
   "execution_count": 108,
   "id": "6a5b4800",
   "metadata": {},
   "outputs": [
    {
     "data": {
      "text/plain": [
       "[Atom(name=C8, res=1 , x=-12.335, y=-7.834, occupied=True),\n",
       " Atom(name=C1, res=2 , x=-12.335, y=-6.409, occupied=True),\n",
       " Atom(name=C8, res=2 , x=-12.335, y=-3.561, occupied=True),\n",
       " Atom(name=C1, res=3 , x=-12.335, y=-2.136, occupied=True),\n",
       " Atom(name=C8, res=3 , x=-12.335, y=0.711, occupied=True),\n",
       " Atom(name=C1, res=4 , x=-12.335, y=2.137, occupied=True),\n",
       " Atom(name=C8, res=4 , x=-12.335, y=4.985, occupied=True),\n",
       " Atom(name=C1, res=5 , x=-12.335, y=6.409, occupied=True)]"
      ]
     },
     "execution_count": 108,
     "metadata": {},
     "output_type": "execute_result"
    }
   ],
   "source": [
    "chairBottom"
   ]
  },
  {
   "cell_type": "code",
   "execution_count": 111,
   "id": "606176f4",
   "metadata": {},
   "outputs": [
    {
     "data": {
      "text/plain": [
       "11"
      ]
     },
     "execution_count": 111,
     "metadata": {},
     "output_type": "execute_result"
    }
   ],
   "source": [
    "len(listBeads)"
   ]
  },
  {
   "cell_type": "code",
   "execution_count": 116,
   "id": "8fcd9d4f",
   "metadata": {},
   "outputs": [
    {
     "data": {
      "text/plain": [
       "9"
      ]
     },
     "execution_count": 116,
     "metadata": {},
     "output_type": "execute_result"
    }
   ],
   "source": [
    "len(listBeads[10])"
   ]
  },
  {
   "cell_type": "code",
   "execution_count": 117,
   "id": "1152a746",
   "metadata": {},
   "outputs": [
    {
     "data": {
      "text/plain": [
       "9"
      ]
     },
     "execution_count": 117,
     "metadata": {},
     "output_type": "execute_result"
    }
   ],
   "source": [
    "len(listBeads[9])"
   ]
  },
  {
   "cell_type": "code",
   "execution_count": 122,
   "id": "346ca221",
   "metadata": {},
   "outputs": [
    {
     "data": {
      "text/plain": [
       "[Atom(name=C8, res=3 , x=-12.335, y=0.711, occupied=True),\n",
       " Atom(name=H8, res=3 , x=-12.952, y=0.355, occupied=True),\n",
       " Atom(name=C1, res=4 , x=-12.335, y=2.137, occupied=True),\n",
       " Atom(name=H1, res=4 , x=-12.952, y=2.493, occupied=True)]"
      ]
     },
     "execution_count": 122,
     "metadata": {},
     "output_type": "execute_result"
    }
   ],
   "source": [
    "listBeads[2]"
   ]
  },
  {
   "cell_type": "code",
   "execution_count": 123,
   "id": "de395fd3",
   "metadata": {},
   "outputs": [
    {
     "name": "stdout",
     "output_type": "stream",
     "text": [
      "4\n",
      "4\n",
      "4\n",
      "4\n",
      "4\n",
      "4\n",
      "4\n",
      "4\n",
      "4\n"
     ]
    }
   ],
   "source": [
    "for i in listBeads[:9]:\n",
    "    print(len(i))"
   ]
  },
  {
   "cell_type": "code",
   "execution_count": 124,
   "id": "ddd961bc",
   "metadata": {},
   "outputs": [],
   "source": [
    "coords = []\n",
    "for i in listBeads[:9]:\n",
    "    x = []\n",
    "    y = []\n",
    "    for j in range(len(i)):\n",
    "        x.append(i[j].x)\n",
    "        y.append(i[j].y)\n",
    "    coords.append((sum(x)/len(x), sum(y)/len(y), 0.280))\n",
    "    "
   ]
  },
  {
   "cell_type": "code",
   "execution_count": 125,
   "id": "8e6e6c3d",
   "metadata": {},
   "outputs": [
    {
     "data": {
      "text/plain": [
       "[(-12.6435, -7.12175, 0.28),\n",
       " (-12.6435, -2.84875, 0.28),\n",
       " (-12.6435, 1.424, 0.28),\n",
       " (-12.6435, 5.696999999999999, 0.28),\n",
       " (11.4105, -9.25825, 0.28),\n",
       " (11.4105, -4.984999999999999, 0.28),\n",
       " (11.4105, -0.7125, 0.28),\n",
       " (11.4105, 3.561, 0.28),\n",
       " (11.4105, 7.833500000000001, 0.28)]"
      ]
     },
     "execution_count": 125,
     "metadata": {},
     "output_type": "execute_result"
    }
   ],
   "source": [
    "coords"
   ]
  },
  {
   "cell_type": "code",
   "execution_count": 126,
   "id": "d9fbc756",
   "metadata": {},
   "outputs": [
    {
     "data": {
      "text/plain": [
       "[(11.4105, -9.25825, 0.28),\n",
       " (-12.6435, -7.12175, 0.28),\n",
       " (11.4105, -4.984999999999999, 0.28),\n",
       " (-12.6435, -2.84875, 0.28),\n",
       " (11.4105, -0.7125, 0.28),\n",
       " (-12.6435, 1.424, 0.28),\n",
       " (11.4105, 3.561, 0.28),\n",
       " (-12.6435, 5.696999999999999, 0.28),\n",
       " (11.4105, 7.833500000000001, 0.28)]"
      ]
     },
     "execution_count": 126,
     "metadata": {},
     "output_type": "execute_result"
    }
   ],
   "source": [
    "sorted(coords, key = lambda x: x[1])"
   ]
  },
  {
   "cell_type": "code",
   "execution_count": null,
   "id": "7febd9ec",
   "metadata": {},
   "outputs": [],
   "source": []
  }
 ],
 "metadata": {
  "kernelspec": {
   "display_name": "Python 3 (ipykernel)",
   "language": "python",
   "name": "python3"
  },
  "language_info": {
   "codemirror_mode": {
    "name": "ipython",
    "version": 3
   },
   "file_extension": ".py",
   "mimetype": "text/x-python",
   "name": "python",
   "nbconvert_exporter": "python",
   "pygments_lexer": "ipython3",
   "version": "3.9.7"
  }
 },
 "nbformat": 4,
 "nbformat_minor": 5
}
