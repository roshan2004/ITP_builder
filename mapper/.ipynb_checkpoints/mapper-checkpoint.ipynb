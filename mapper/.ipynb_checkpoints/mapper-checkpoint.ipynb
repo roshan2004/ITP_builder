{
 "cells": [
  {
   "cell_type": "code",
   "execution_count": 1,
   "id": "0e679cc3",
   "metadata": {},
   "outputs": [],
   "source": [
    "import pypstruct\n",
    "import math"
   ]
  },
  {
   "cell_type": "code",
   "execution_count": 2,
   "id": "ab51810e",
   "metadata": {},
   "outputs": [],
   "source": [
    "pdb = \"./step1_nanomaterial.pdb\""
   ]
  },
  {
   "cell_type": "code",
   "execution_count": 3,
   "id": "039baf1d",
   "metadata": {},
   "outputs": [
    {
     "name": "stdout",
     "output_type": "stream",
     "text": [
      "dict_keys(['x', 'y', 'z', 'seqRes', 'chainID', 'resName', 'name'])\n",
      "x -7.401\n",
      "y -6.409\n",
      "z 0.277\n",
      "seqRes 2 \n",
      "chainID G\n",
      "resName GP0\n",
      "name C1\n"
     ]
    }
   ],
   "source": [
    "#Load pdf file with a pdb parser\n",
    "pdb_parsed = pypstruct.parseFilePDB(pdb)\n",
    "\n",
    "#Pdb file is loaded in a big dictionnary\n",
    "structure_dic = pdb_parsed.atomDictorize\n",
    "\n",
    "print( structure_dic.keys())\n",
    "\n",
    "for key in structure_dic:\n",
    "    print( key, structure_dic[key][10])"
   ]
  },
  {
   "cell_type": "code",
   "execution_count": 4,
   "id": "8d1cbdc9",
   "metadata": {},
   "outputs": [],
   "source": [
    "#Now we create a class \"atom\"\n",
    "#With position, name and more ...\n",
    "\n",
    "class atom:\n",
    "    def __init__(self, x , y , z , seqRes ,chainID, resName, name ):\n",
    "        self.x = x\n",
    "        self.y = y\n",
    "        self.z = z\n",
    "        self.seqRes = seqRes\n",
    "        self.chainID = chainID\n",
    "        self.resName = resName\n",
    "        self.name = name\n",
    "        self.occupied = False\n",
    "\n",
    "    def isCarbon(self):\n",
    "        return self.name.startswith('C')\n",
    "\n",
    "    def isHydrogen(self):\n",
    "        return self.name.startswith('H')\n",
    "    \n",
    "    def __repr__ (self):\n",
    "        return f\"Atom(name={self.name}, res={self.seqRes}, x={self.x}, y={self.y}, occupied={self.occupied})\"\n",
    "    def __eq__(self, atom):\n",
    "        return self.x == atom.x and self.y == atom.y and self.z == atom.z\n",
    "    "
   ]
  },
  {
   "cell_type": "code",
   "execution_count": 5,
   "id": "202741ef",
   "metadata": {},
   "outputs": [],
   "source": [
    "#Instanciate atom object with the dictionnary content and add in a list\n",
    "\n",
    "listAtoms = []\n",
    "numberOfAtom = len(structure_dic[\"name\"])\n",
    "\n",
    "for i in range(0, numberOfAtom ) :\n",
    "    \n",
    "    listAtoms.append( atom( structure_dic[\"x\"][i], \n",
    "                          structure_dic[\"y\"][i],\n",
    "                          structure_dic[\"z\"][i],\n",
    "                          structure_dic[\"seqRes\"][i],\n",
    "                          structure_dic[\"chainID\"][i],\n",
    "                          structure_dic[\"resName\"][i],\n",
    "                          structure_dic[\"name\"][i] ) )\n"
   ]
  },
  {
   "cell_type": "code",
   "execution_count": 6,
   "id": "3321b864",
   "metadata": {},
   "outputs": [
    {
     "name": "stdout",
     "output_type": "stream",
     "text": [
      "Number of H : 30\n"
     ]
    }
   ],
   "source": [
    "#subest hydrogen\n",
    "atoms_h = [atom for atom in listAtoms if atom.isHydrogen()]\n",
    "print( \"Number of H :\", len(atoms_h))"
   ]
  },
  {
   "cell_type": "code",
   "execution_count": 7,
   "id": "dbe651d7",
   "metadata": {},
   "outputs": [
    {
     "name": "stdout",
     "output_type": "stream",
     "text": [
      "Number of C : 118\n"
     ]
    }
   ],
   "source": [
    "#subest carbon\n",
    "atoms_c = [atom for atom in listAtoms if atom.isCarbon()]\n",
    "print(\"Number of C :\",  len(atoms_c))"
   ]
  },
  {
   "cell_type": "code",
   "execution_count": 8,
   "id": "33a397d0",
   "metadata": {},
   "outputs": [
    {
     "name": "stdout",
     "output_type": "stream",
     "text": [
      "Number minX 8 Number maxX 10\n",
      "Number minY 5 Number maxY 5\n"
     ]
    }
   ],
   "source": [
    "# trouver les 4 lignes de bords \n",
    "\n",
    "min_x = min(set([a.x for a in atoms_c]))\n",
    "list_min_x = [a for a in atoms_c if a.x == min_x ]\n",
    "\n",
    "\n",
    "max_x = max(set([a.x for a in atoms_c]))\n",
    "list_max_x = [a for a in atoms_c if a.x == max_x ]\n",
    "\n",
    "min_y = min(set([a.y for a in atoms_c]))\n",
    "list_min_y = [a for a in atoms_c if a.y == min_y ]\n",
    "\n",
    "\n",
    "max_y = max(set([a.y for a in atoms_c]))\n",
    "list_max_y = [a for a in atoms_c if a.y == max_y ]\n",
    "\n",
    "\n",
    "print(\"Number minX\" ,len(list_min_x) ,\"Number maxX\" ,len(list_max_x) )\n",
    "print(\"Number minY\" ,len(list_min_y) ,\"Number maxY\" ,len(list_max_y) )"
   ]
  },
  {
   "cell_type": "code",
   "execution_count": 9,
   "id": "5601b2b0",
   "metadata": {},
   "outputs": [
    {
     "name": "stdout",
     "output_type": "stream",
     "text": [
      "5 carbons in zigzag bottom\n",
      "5 carbons in zigzag top\n",
      "8 carbons in armchair bottom\n",
      "10 carbons in armchair top\n"
     ]
    }
   ],
   "source": [
    "# Find the zigzag lines \n",
    "# in zig zag line every distance between carbon is the same \n",
    "#check distance the 3 first atom \n",
    "\n",
    "def dist( atom1 , atom2) :\n",
    "    return round(math.sqrt( math.pow(atom1.x-atom2.x , 2) +  math.pow(atom1.y-atom2.y, 2) +  math.pow(atom1.z-atom2.z,2) ), 2)\n",
    "\n",
    "\n",
    "def isDistanceEqual( li ):\n",
    "    dist_1_2 = dist(li[0] , li[1])\n",
    "    dist_2_3 = dist(li[1] , li[2])\n",
    "    return dist_1_2 == dist_2_3\n",
    "\n",
    "# Sort each atom according to their coordinates (x or y) \n",
    "def sortListAtom(li):\n",
    "    if li[0].x == li[1].x : \n",
    "        return sorted(li, key=lambda atom: atom.y)\n",
    "    else:\n",
    "        return sorted(li, key=lambda atom: atom.x)\n",
    "\n",
    "# We have the edges, we need to define which one are armchair and zigzag.\n",
    "# In zigzag, distance between all carbons are the same and not in armchair.   \n",
    "\n",
    "for l in [list_min_x, list_min_y]:\n",
    "    if(isDistanceEqual(sortListAtom(l))):\n",
    "        zigzagBottom = l\n",
    "    else:\n",
    "        chairBottom = l\n",
    "\n",
    "for l in [list_max_x, list_max_y]:\n",
    "    if(isDistanceEqual(sortListAtom(l))):\n",
    "        zigzagTop = l\n",
    "    else:\n",
    "        chairTop = l\n",
    "\n",
    "print(len(zigzagBottom), \"carbons in zigzag bottom\")    \n",
    "print(len(zigzagTop), \"carbons in zigzag top\") \n",
    "print(len(chairBottom), \"carbons in armchair bottom\") \n",
    "print(len(chairTop), \"carbons in armchair top\") "
   ]
  },
  {
   "cell_type": "markdown",
   "id": "3b248ae7",
   "metadata": {},
   "source": [
    "### Define research function"
   ]
  },
  {
   "cell_type": "code",
   "execution_count": 10,
   "id": "d3b76cc0",
   "metadata": {},
   "outputs": [],
   "source": [
    "def findClosest(atom, listAtom):\n",
    "    # return a list of the closest free atom (min 1 element and maximum X elements)\n",
    "    #You can find the closest atom depending of the list that you give (only carbon or only hydrogene or both)\n",
    "    \n",
    "    start = 0 \n",
    "    #print(\"###\", atom)\n",
    "    #Find the first inoccupied carbon\n",
    "    for atom_c in listAtom:\n",
    "        if not atom_c.occupied and not atom == atom_c: \n",
    "            \n",
    "            min_distance = dist(atom, atom_c)\n",
    "            #print(atom_c, min_distance)\n",
    "            #( atom , distance from c)\n",
    "            closest = [ atom_c ]\n",
    "            break\n",
    "        start+=1\n",
    "    \n",
    "    for atom_c in listAtom[start+1:]:\n",
    "        \n",
    "        if not atom_c.occupied and not atom == atom_c: \n",
    "            current_dist = dist(atom, atom_c)\n",
    "            #if current_dist < 5:\n",
    "                #print(atom_c, current_dist)\n",
    "            if current_dist < min_distance:\n",
    "                min_distance = current_dist\n",
    "                closest = [ atom_c ]\n",
    "                \n",
    "            elif current_dist == min_distance:\n",
    "                closest.append( atom_c)\n",
    "             \n",
    "    \n",
    "    return closest"
   ]
  },
  {
   "cell_type": "markdown",
   "id": "6c8ccc3f",
   "metadata": {},
   "source": [
    "### Fill the armchair"
   ]
  },
  {
   "cell_type": "code",
   "execution_count": 11,
   "id": "c33a342f",
   "metadata": {
    "scrolled": true
   },
   "outputs": [
    {
     "name": "stdout",
     "output_type": "stream",
     "text": [
      "Atom(name=C8, res=1 , x=-7.401, y=-7.834, occupied=False) [Atom(name=H8, res=1 , x=-8.018, y=-8.191, occupied=False)]\n",
      "Atom(name=C1, res=2 , x=-7.401, y=-6.409, occupied=False) [Atom(name=H1, res=2 , x=-8.018, y=-6.053, occupied=False)]\n",
      "Atom(name=C8, res=2 , x=-7.401, y=-3.561, occupied=False) [Atom(name=H8, res=2 , x=-8.018, y=-3.918, occupied=False)]\n",
      "Atom(name=C1, res=3 , x=-7.401, y=-2.136, occupied=False) [Atom(name=H1, res=3 , x=-8.018, y=-1.78, occupied=False)]\n",
      "Atom(name=C8, res=3 , x=-7.401, y=0.711, occupied=False) [Atom(name=H8, res=3 , x=-8.018, y=0.355, occupied=False)]\n",
      "Atom(name=C1, res=4 , x=-7.401, y=2.137, occupied=False) [Atom(name=H1, res=4 , x=-8.018, y=2.493, occupied=False)]\n",
      "Atom(name=C8, res=4 , x=-7.401, y=4.985, occupied=False) [Atom(name=H8, res=4 , x=-8.018, y=4.628, occupied=False)]\n",
      "Atom(name=C1, res=5 , x=-7.401, y=6.409, occupied=False) [Atom(name=H1, res=5 , x=-8.018, y=6.766, occupied=False)]\n"
     ]
    }
   ],
   "source": [
    "for atom in chairBottom:\n",
    "    print(atom, findClosest(atom, atoms_h))"
   ]
  },
  {
   "cell_type": "code",
   "execution_count": 12,
   "id": "8028fb34",
   "metadata": {},
   "outputs": [],
   "source": [
    "# We take each pair of carbon and add the closest hydrogen to each to have a group of 4 atoms\n",
    "def groupArmchair(listC, listH):\n",
    "    step = 2\n",
    "    armchair_group = []\n",
    "    group = []\n",
    "    for atom_c in listC:\n",
    "        group.append(atom_c)\n",
    "        #This atom is not free anymore\n",
    "        atom_c.occupied = True\n",
    "        \n",
    "        closest_atoms_h = findClosest(atom_c, listH)\n",
    "        if len(closest_atoms_h) == 1:\n",
    "            atom_h = closest_atoms_h[0]\n",
    "            atom_h.occupied = True\n",
    "            group.append(atom_h)\n",
    "            step -= 1 \n",
    "            if step == 0:\n",
    "                armchair_group.append(group)\n",
    "                group = []\n",
    "                step = 2\n",
    "        else :\n",
    "            print( \"WTF\" , closest_atoms_h)\n",
    "    return armchair_group\n",
    "    "
   ]
  },
  {
   "cell_type": "code",
   "execution_count": 13,
   "id": "c98bf549",
   "metadata": {},
   "outputs": [
    {
     "data": {
      "text/plain": [
       "[[Atom(name=C8, res=1 , x=-7.401, y=-7.834, occupied=True),\n",
       "  Atom(name=H8, res=1 , x=-8.018, y=-8.191, occupied=True),\n",
       "  Atom(name=C1, res=2 , x=-7.401, y=-6.409, occupied=True),\n",
       "  Atom(name=H1, res=2 , x=-8.018, y=-6.053, occupied=True)],\n",
       " [Atom(name=C8, res=2 , x=-7.401, y=-3.561, occupied=True),\n",
       "  Atom(name=H8, res=2 , x=-8.018, y=-3.918, occupied=True),\n",
       "  Atom(name=C1, res=3 , x=-7.401, y=-2.136, occupied=True),\n",
       "  Atom(name=H1, res=3 , x=-8.018, y=-1.78, occupied=True)],\n",
       " [Atom(name=C8, res=3 , x=-7.401, y=0.711, occupied=True),\n",
       "  Atom(name=H8, res=3 , x=-8.018, y=0.355, occupied=True),\n",
       "  Atom(name=C1, res=4 , x=-7.401, y=2.137, occupied=True),\n",
       "  Atom(name=H1, res=4 , x=-8.018, y=2.493, occupied=True)],\n",
       " [Atom(name=C8, res=4 , x=-7.401, y=4.985, occupied=True),\n",
       "  Atom(name=H8, res=4 , x=-8.018, y=4.628, occupied=True),\n",
       "  Atom(name=C1, res=5 , x=-7.401, y=6.409, occupied=True),\n",
       "  Atom(name=H1, res=5 , x=-8.018, y=6.766, occupied=True)],\n",
       " [Atom(name=C4, res=11 , x=6.168, y=-9.97, occupied=True),\n",
       "  Atom(name=H4, res=11 , x=6.785, y=-10.326, occupied=True),\n",
       "  Atom(name=C5, res=11 , x=6.168, y=-8.546, occupied=True),\n",
       "  Atom(name=H5, res=11 , x=6.785, y=-8.191, occupied=True)],\n",
       " [Atom(name=C4, res=12 , x=6.168, y=-5.697, occupied=True),\n",
       "  Atom(name=H4, res=12 , x=6.785, y=-6.053, occupied=True),\n",
       "  Atom(name=C5, res=12 , x=6.168, y=-4.273, occupied=True),\n",
       "  Atom(name=H5, res=12 , x=6.785, y=-3.917, occupied=True)],\n",
       " [Atom(name=C4, res=13 , x=6.168, y=-1.425, occupied=True),\n",
       "  Atom(name=H4, res=13 , x=6.785, y=-1.78, occupied=True),\n",
       "  Atom(name=C5, res=13 , x=6.168, y=-0.001, occupied=True),\n",
       "  Atom(name=H5, res=13 , x=6.785, y=0.356, occupied=True)],\n",
       " [Atom(name=C4, res=14 , x=6.168, y=2.849, occupied=True),\n",
       "  Atom(name=H4, res=14 , x=6.785, y=2.493, occupied=True),\n",
       "  Atom(name=C5, res=14 , x=6.168, y=4.273, occupied=True),\n",
       "  Atom(name=H5, res=14 , x=6.785, y=4.629, occupied=True)],\n",
       " [Atom(name=C4, res=15 , x=6.168, y=7.121, occupied=True),\n",
       "  Atom(name=H4, res=15 , x=6.785, y=6.766, occupied=True),\n",
       "  Atom(name=C5, res=15 , x=6.168, y=8.545, occupied=True),\n",
       "  Atom(name=H5, res=15 , x=6.785, y=8.902, occupied=True)]]"
      ]
     },
     "execution_count": 13,
     "metadata": {},
     "output_type": "execute_result"
    }
   ],
   "source": [
    "#We add armchair beads to list of all beads\n",
    "listBeads = []\n",
    "listBeads += groupArmchair(chairBottom, atoms_h)\n",
    "listBeads += groupArmchair(chairTop, atoms_h)\n",
    "\n",
    "listBeads"
   ]
  },
  {
   "cell_type": "markdown",
   "id": "3b462d34",
   "metadata": {},
   "source": [
    "## Fill the zigzag"
   ]
  },
  {
   "cell_type": "code",
   "execution_count": 14,
   "id": "f363be6d",
   "metadata": {},
   "outputs": [
    {
     "name": "stdout",
     "output_type": "stream",
     "text": [
      "[Atom(name=C3, res=1 , x=-4.934, y=-10.682, occupied=False), Atom(name=C1, res=6 , x=-2.467, y=-10.682, occupied=False), Atom(name=C3, res=6 , x=-0.0, y=-10.682, occupied=False), Atom(name=C1, res=11 , x=2.467, y=-10.682, occupied=False), Atom(name=C3, res=11 , x=4.934, y=-10.682, occupied=False)]\n"
     ]
    }
   ],
   "source": [
    "#For the zig zag part, beads are compposed by \n",
    "# 1 H and 2 C\n",
    "# and for the last beads 2H and 2C\n",
    "\n",
    "\n",
    "print(zigzagBottom)\n",
    "\n",
    "def groupZigzag(atomsZigzag, listCarbons, listHydrogens):\n",
    "    zigzag_group = []\n",
    "    \n",
    "    for atom in atomsZigzag:\n",
    "        bead = []\n",
    "        \n",
    "        closestC = findClosest( atom, listCarbons )\n",
    "        closestH = findClosest( atom, listHydrogens )\n",
    "        \n",
    "        #Now we need to check if closest Carbon(s) are bind to an hydrogen \n",
    "        #If they are -> beads 2C2H\n",
    "        \n",
    "        \n",
    "        #try to find the type of beads H-C-C-H \n",
    "        for c in closestC :\n",
    "            for x in findClosest( c, listAtoms ):\n",
    "                if x.isHydrogen() :\n",
    "                    bead = [atom, closestH[0], c, x] \n",
    "                    \n",
    "        if bead == []:\n",
    "            bead = [atom, closestH[0], closestC[0]]\n",
    "              \n",
    "        for b in bead:\n",
    "            b.occupied = True\n",
    "        zigzag_group.append(bead)\n",
    "    #si c'est une beads normal de 1h and 2c \n",
    "    \n",
    "    #si c'est une beads de 2c et 2h faire la verif\n",
    "    \n",
    "    #init list of atoms, each element is a list of atoms who are in one bedas\n",
    "\n",
    "    return zigzag_group\n",
    "    "
   ]
  },
  {
   "cell_type": "code",
   "execution_count": 15,
   "id": "70ea96f0",
   "metadata": {},
   "outputs": [
    {
     "data": {
      "text/plain": [
       "[[Atom(name=C3, res=1 , x=-4.934, y=-10.682, occupied=True),\n",
       "  Atom(name=H3, res=1 , x=-4.935, y=-11.394, occupied=True),\n",
       "  Atom(name=C2, res=1 , x=-6.167, y=-9.97, occupied=True),\n",
       "  Atom(name=H2, res=1 , x=-6.784, y=-10.326, occupied=True)],\n",
       " [Atom(name=C1, res=6 , x=-2.467, y=-10.682, occupied=True),\n",
       "  Atom(name=H1, res=6 , x=-2.468, y=-11.394, occupied=True),\n",
       "  Atom(name=C4, res=1 , x=-3.7, y=-9.97, occupied=True)],\n",
       " [Atom(name=C3, res=6 , x=-0.0, y=-10.682, occupied=True),\n",
       "  Atom(name=H3, res=6 , x=-0.001, y=-11.394, occupied=True),\n",
       "  Atom(name=C2, res=6 , x=-1.233, y=-9.97, occupied=True)],\n",
       " [Atom(name=C1, res=11 , x=2.467, y=-10.682, occupied=True),\n",
       "  Atom(name=H1, res=11 , x=2.466, y=-11.394, occupied=True),\n",
       "  Atom(name=C4, res=6 , x=1.234, y=-9.97, occupied=True)],\n",
       " [Atom(name=C3, res=11 , x=4.934, y=-10.682, occupied=True),\n",
       "  Atom(name=H3, res=11 , x=4.933, y=-11.394, occupied=True),\n",
       "  Atom(name=C2, res=11 , x=3.701, y=-9.97, occupied=True)]]"
      ]
     },
     "execution_count": 15,
     "metadata": {},
     "output_type": "execute_result"
    }
   ],
   "source": [
    "zigzagBottom_group = groupZigzag(zigzagBottom, atoms_c, atoms_h)\n",
    "listBeads.append( zigzagBottom_group)\n",
    "zigzagBottom_group"
   ]
  },
  {
   "cell_type": "code",
   "execution_count": 16,
   "id": "42f4ab51",
   "metadata": {},
   "outputs": [
    {
     "data": {
      "text/plain": [
       "[[Atom(name=C6, res=5 , x=-4.934, y=9.257, occupied=True),\n",
       "  Atom(name=H6, res=5 , x=-4.935, y=9.97, occupied=True),\n",
       "  Atom(name=C7, res=5 , x=-6.167, y=8.545, occupied=True),\n",
       "  Atom(name=H7, res=5 , x=-6.784, y=8.902, occupied=True)],\n",
       " [Atom(name=C6, res=10 , x=-0.0, y=9.257, occupied=True),\n",
       "  Atom(name=H6, res=10 , x=-0.001, y=9.97, occupied=True),\n",
       "  Atom(name=C5, res=10 , x=1.234, y=8.545, occupied=True)],\n",
       " [Atom(name=C8, res=10 , x=-2.467, y=9.257, occupied=True),\n",
       "  Atom(name=H8, res=10 , x=-2.468, y=9.97, occupied=True),\n",
       "  Atom(name=C5, res=5 , x=-3.7, y=8.545, occupied=True)],\n",
       " [Atom(name=C6, res=15 , x=4.934, y=9.257, occupied=True),\n",
       "  Atom(name=H6, res=15 , x=4.933, y=9.97, occupied=True),\n",
       "  Atom(name=C7, res=15 , x=3.701, y=8.545, occupied=True)],\n",
       " [Atom(name=C8, res=15 , x=2.467, y=9.257, occupied=True),\n",
       "  Atom(name=H8, res=15 , x=2.466, y=9.97, occupied=True),\n",
       "  Atom(name=C4, res=10 , x=1.234, y=7.121, occupied=True)]]"
      ]
     },
     "execution_count": 16,
     "metadata": {},
     "output_type": "execute_result"
    }
   ],
   "source": [
    "zigzagTop_group =groupZigzag(zigzagTop, atoms_c, atoms_h)\n",
    "listBeads.append( zigzagTop_group)\n",
    "zigzagTop_group"
   ]
  },
  {
   "cell_type": "code",
   "execution_count": 17,
   "id": "891e84c5",
   "metadata": {},
   "outputs": [
    {
     "data": {
      "text/plain": [
       "[[Atom(name=C8, res=1 , x=-7.401, y=-7.834, occupied=True),\n",
       "  Atom(name=H8, res=1 , x=-8.018, y=-8.191, occupied=True),\n",
       "  Atom(name=C1, res=2 , x=-7.401, y=-6.409, occupied=True),\n",
       "  Atom(name=H1, res=2 , x=-8.018, y=-6.053, occupied=True)],\n",
       " [Atom(name=C8, res=2 , x=-7.401, y=-3.561, occupied=True),\n",
       "  Atom(name=H8, res=2 , x=-8.018, y=-3.918, occupied=True),\n",
       "  Atom(name=C1, res=3 , x=-7.401, y=-2.136, occupied=True),\n",
       "  Atom(name=H1, res=3 , x=-8.018, y=-1.78, occupied=True)],\n",
       " [Atom(name=C8, res=3 , x=-7.401, y=0.711, occupied=True),\n",
       "  Atom(name=H8, res=3 , x=-8.018, y=0.355, occupied=True),\n",
       "  Atom(name=C1, res=4 , x=-7.401, y=2.137, occupied=True),\n",
       "  Atom(name=H1, res=4 , x=-8.018, y=2.493, occupied=True)],\n",
       " [Atom(name=C8, res=4 , x=-7.401, y=4.985, occupied=True),\n",
       "  Atom(name=H8, res=4 , x=-8.018, y=4.628, occupied=True),\n",
       "  Atom(name=C1, res=5 , x=-7.401, y=6.409, occupied=True),\n",
       "  Atom(name=H1, res=5 , x=-8.018, y=6.766, occupied=True)],\n",
       " [Atom(name=C4, res=11 , x=6.168, y=-9.97, occupied=True),\n",
       "  Atom(name=H4, res=11 , x=6.785, y=-10.326, occupied=True),\n",
       "  Atom(name=C5, res=11 , x=6.168, y=-8.546, occupied=True),\n",
       "  Atom(name=H5, res=11 , x=6.785, y=-8.191, occupied=True)],\n",
       " [Atom(name=C4, res=12 , x=6.168, y=-5.697, occupied=True),\n",
       "  Atom(name=H4, res=12 , x=6.785, y=-6.053, occupied=True),\n",
       "  Atom(name=C5, res=12 , x=6.168, y=-4.273, occupied=True),\n",
       "  Atom(name=H5, res=12 , x=6.785, y=-3.917, occupied=True)],\n",
       " [Atom(name=C4, res=13 , x=6.168, y=-1.425, occupied=True),\n",
       "  Atom(name=H4, res=13 , x=6.785, y=-1.78, occupied=True),\n",
       "  Atom(name=C5, res=13 , x=6.168, y=-0.001, occupied=True),\n",
       "  Atom(name=H5, res=13 , x=6.785, y=0.356, occupied=True)],\n",
       " [Atom(name=C4, res=14 , x=6.168, y=2.849, occupied=True),\n",
       "  Atom(name=H4, res=14 , x=6.785, y=2.493, occupied=True),\n",
       "  Atom(name=C5, res=14 , x=6.168, y=4.273, occupied=True),\n",
       "  Atom(name=H5, res=14 , x=6.785, y=4.629, occupied=True)],\n",
       " [Atom(name=C4, res=15 , x=6.168, y=7.121, occupied=True),\n",
       "  Atom(name=H4, res=15 , x=6.785, y=6.766, occupied=True),\n",
       "  Atom(name=C5, res=15 , x=6.168, y=8.545, occupied=True),\n",
       "  Atom(name=H5, res=15 , x=6.785, y=8.902, occupied=True)],\n",
       " [[Atom(name=C3, res=1 , x=-4.934, y=-10.682, occupied=True),\n",
       "   Atom(name=H3, res=1 , x=-4.935, y=-11.394, occupied=True),\n",
       "   Atom(name=C2, res=1 , x=-6.167, y=-9.97, occupied=True),\n",
       "   Atom(name=H2, res=1 , x=-6.784, y=-10.326, occupied=True)],\n",
       "  [Atom(name=C1, res=6 , x=-2.467, y=-10.682, occupied=True),\n",
       "   Atom(name=H1, res=6 , x=-2.468, y=-11.394, occupied=True),\n",
       "   Atom(name=C4, res=1 , x=-3.7, y=-9.97, occupied=True)],\n",
       "  [Atom(name=C3, res=6 , x=-0.0, y=-10.682, occupied=True),\n",
       "   Atom(name=H3, res=6 , x=-0.001, y=-11.394, occupied=True),\n",
       "   Atom(name=C2, res=6 , x=-1.233, y=-9.97, occupied=True)],\n",
       "  [Atom(name=C1, res=11 , x=2.467, y=-10.682, occupied=True),\n",
       "   Atom(name=H1, res=11 , x=2.466, y=-11.394, occupied=True),\n",
       "   Atom(name=C4, res=6 , x=1.234, y=-9.97, occupied=True)],\n",
       "  [Atom(name=C3, res=11 , x=4.934, y=-10.682, occupied=True),\n",
       "   Atom(name=H3, res=11 , x=4.933, y=-11.394, occupied=True),\n",
       "   Atom(name=C2, res=11 , x=3.701, y=-9.97, occupied=True)]],\n",
       " [[Atom(name=C6, res=5 , x=-4.934, y=9.257, occupied=True),\n",
       "   Atom(name=H6, res=5 , x=-4.935, y=9.97, occupied=True),\n",
       "   Atom(name=C7, res=5 , x=-6.167, y=8.545, occupied=True),\n",
       "   Atom(name=H7, res=5 , x=-6.784, y=8.902, occupied=True)],\n",
       "  [Atom(name=C6, res=10 , x=-0.0, y=9.257, occupied=True),\n",
       "   Atom(name=H6, res=10 , x=-0.001, y=9.97, occupied=True),\n",
       "   Atom(name=C5, res=10 , x=1.234, y=8.545, occupied=True)],\n",
       "  [Atom(name=C8, res=10 , x=-2.467, y=9.257, occupied=True),\n",
       "   Atom(name=H8, res=10 , x=-2.468, y=9.97, occupied=True),\n",
       "   Atom(name=C5, res=5 , x=-3.7, y=8.545, occupied=True)],\n",
       "  [Atom(name=C6, res=15 , x=4.934, y=9.257, occupied=True),\n",
       "   Atom(name=H6, res=15 , x=4.933, y=9.97, occupied=True),\n",
       "   Atom(name=C7, res=15 , x=3.701, y=8.545, occupied=True)],\n",
       "  [Atom(name=C8, res=15 , x=2.467, y=9.257, occupied=True),\n",
       "   Atom(name=H8, res=15 , x=2.466, y=9.97, occupied=True),\n",
       "   Atom(name=C4, res=10 , x=1.234, y=7.121, occupied=True)]]]"
      ]
     },
     "execution_count": 17,
     "metadata": {},
     "output_type": "execute_result"
    }
   ],
   "source": [
    "listBeads"
   ]
  }
 ],
 "metadata": {
  "kernelspec": {
   "display_name": "Python 3 (ipykernel)",
   "language": "python",
   "name": "python3"
  },
  "language_info": {
   "codemirror_mode": {
    "name": "ipython",
    "version": 3
   },
   "file_extension": ".py",
   "mimetype": "text/x-python",
   "name": "python",
   "nbconvert_exporter": "python",
   "pygments_lexer": "ipython3",
   "version": "3.9.7"
  }
 },
 "nbformat": 4,
 "nbformat_minor": 5
}
