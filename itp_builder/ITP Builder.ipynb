{
 "cells": [
  {
   "cell_type": "code",
   "execution_count": 1,
   "id": "24472462",
   "metadata": {},
   "outputs": [
    {
     "data": {
      "application/vnd.jupyter.widget-view+json": {
       "model_id": "c7eea3cf3ba34ae2a03ccfa18c69f377",
       "version_major": 2,
       "version_minor": 0
      },
      "text/plain": []
     },
     "metadata": {},
     "output_type": "display_data"
    }
   ],
   "source": [
    "import numpy as np\n",
    "import matplotlib.pyplot as plt\n",
    "import nglview as nv\n",
    "import MDAnalysis as mda"
   ]
  },
  {
   "cell_type": "code",
   "execution_count": 2,
   "id": "e7aaab77",
   "metadata": {},
   "outputs": [],
   "source": [
    "from grouping import regroup"
   ]
  },
  {
   "cell_type": "code",
   "execution_count": 4,
   "id": "4c36c0c0",
   "metadata": {},
   "outputs": [],
   "source": [
    "list_of_middle = [np.arange(i, i+10) for i in np.arange(1, 90 +1, 10)]"
   ]
  },
  {
   "cell_type": "code",
   "execution_count": 5,
   "id": "80c2e829",
   "metadata": {},
   "outputs": [
    {
     "data": {
      "text/plain": [
       "[array([ 1,  2,  3,  4,  5,  6,  7,  8,  9, 10]),\n",
       " array([11, 12, 13, 14, 15, 16, 17, 18, 19, 20]),\n",
       " array([21, 22, 23, 24, 25, 26, 27, 28, 29, 30]),\n",
       " array([31, 32, 33, 34, 35, 36, 37, 38, 39, 40]),\n",
       " array([41, 42, 43, 44, 45, 46, 47, 48, 49, 50]),\n",
       " array([51, 52, 53, 54, 55, 56, 57, 58, 59, 60]),\n",
       " array([61, 62, 63, 64, 65, 66, 67, 68, 69, 70]),\n",
       " array([71, 72, 73, 74, 75, 76, 77, 78, 79, 80]),\n",
       " array([81, 82, 83, 84, 85, 86, 87, 88, 89, 90])]"
      ]
     },
     "execution_count": 5,
     "metadata": {},
     "output_type": "execute_result"
    }
   ],
   "source": [
    "list_of_middle"
   ]
  },
  {
   "cell_type": "code",
   "execution_count": 6,
   "id": "d4e005b1",
   "metadata": {},
   "outputs": [],
   "source": [
    "list_of = [i.tolist() for i in list_of_middle]"
   ]
  },
  {
   "cell_type": "code",
   "execution_count": 7,
   "id": "4d92e5f6",
   "metadata": {},
   "outputs": [
    {
     "data": {
      "text/plain": [
       "[[1, 2, 3, 4, 5, 6, 7, 8, 9, 10],\n",
       " [11, 12, 13, 14, 15, 16, 17, 18, 19, 20],\n",
       " [21, 22, 23, 24, 25, 26, 27, 28, 29, 30],\n",
       " [31, 32, 33, 34, 35, 36, 37, 38, 39, 40],\n",
       " [41, 42, 43, 44, 45, 46, 47, 48, 49, 50],\n",
       " [51, 52, 53, 54, 55, 56, 57, 58, 59, 60],\n",
       " [61, 62, 63, 64, 65, 66, 67, 68, 69, 70],\n",
       " [71, 72, 73, 74, 75, 76, 77, 78, 79, 80],\n",
       " [81, 82, 83, 84, 85, 86, 87, 88, 89, 90]]"
      ]
     },
     "execution_count": 7,
     "metadata": {},
     "output_type": "execute_result"
    }
   ],
   "source": [
    "list_of"
   ]
  },
  {
   "cell_type": "code",
   "execution_count": 8,
   "id": "580279d7",
   "metadata": {},
   "outputs": [],
   "source": [
    "for_bonds = []\n",
    "for i in range(len(list_of)):\n",
    "    if i % 2 == 0:\n",
    "        for_bonds.append(list_of[i])\n",
    "    "
   ]
  },
  {
   "cell_type": "code",
   "execution_count": 10,
   "id": "0a933314",
   "metadata": {},
   "outputs": [
    {
     "data": {
      "text/plain": [
       "[[1, 2, 3, 4, 5, 6, 7, 8, 9, 10],\n",
       " [21, 22, 23, 24, 25, 26, 27, 28, 29, 30],\n",
       " [41, 42, 43, 44, 45, 46, 47, 48, 49, 50],\n",
       " [61, 62, 63, 64, 65, 66, 67, 68, 69, 70],\n",
       " [81, 82, 83, 84, 85, 86, 87, 88, 89, 90]]"
      ]
     },
     "execution_count": 10,
     "metadata": {},
     "output_type": "execute_result"
    }
   ],
   "source": [
    "for_bonds"
   ]
  },
  {
   "cell_type": "code",
   "execution_count": 12,
   "id": "0ecf9e76",
   "metadata": {},
   "outputs": [],
   "source": [
    "new_list = []\n",
    "\n",
    "for i in for_bonds:\n",
    "    new_list.append(regroup(i))"
   ]
  },
  {
   "cell_type": "code",
   "execution_count": 13,
   "id": "3ba955be",
   "metadata": {},
   "outputs": [
    {
     "data": {
      "text/plain": [
       "[[[1, 2, 3], [3, 4], [4, 5, 6], [6, 7], [7, 8, 9], [9, 10]],\n",
       " [[21, 22, 23], [23, 24], [24, 25, 26], [26, 27], [27, 28, 29], [29, 30]],\n",
       " [[41, 42, 43], [43, 44], [44, 45, 46], [46, 47], [47, 48, 49], [49, 50]],\n",
       " [[61, 62, 63], [63, 64], [64, 65, 66], [66, 67], [67, 68, 69], [69, 70]],\n",
       " [[81, 82, 83], [83, 84], [84, 85, 86], [86, 87], [87, 88, 89], [89, 90]]]"
      ]
     },
     "execution_count": 13,
     "metadata": {},
     "output_type": "execute_result"
    }
   ],
   "source": [
    "new_list"
   ]
  },
  {
   "cell_type": "code",
   "execution_count": 17,
   "id": "8247ca33",
   "metadata": {},
   "outputs": [],
   "source": [
    "from virtual_mass import mass_virtual"
   ]
  },
  {
   "cell_type": "code",
   "execution_count": 22,
   "id": "9a53011f",
   "metadata": {},
   "outputs": [],
   "source": [
    "from vs import virtual_site1, virtual_site2"
   ]
  },
  {
   "cell_type": "code",
   "execution_count": 21,
   "id": "a0cf08fb",
   "metadata": {},
   "outputs": [
    {
     "name": "stdout",
     "output_type": "stream",
     "text": [
      "2    1    1    3\n",
      "5    1    4    6\n",
      "8    1    7    9\n",
      "22    1    21    23\n",
      "25    1    24    26\n",
      "28    1    27    29\n",
      "42    1    41    43\n",
      "45    1    44    46\n",
      "48    1    47    49\n",
      "62    1    61    63\n",
      "65    1    64    66\n",
      "68    1    67    69\n",
      "82    1    81    83\n",
      "85    1    84    86\n",
      "88    1    87    89\n"
     ]
    }
   ],
   "source": [
    "virtual_site1(new_list)"
   ]
  },
  {
   "cell_type": "code",
   "execution_count": 24,
   "id": "404d3fab",
   "metadata": {},
   "outputs": [
    {
     "ename": "NameError",
     "evalue": "name 'regroup' is not defined",
     "output_type": "error",
     "traceback": [
      "\u001b[0;31m---------------------------------------------------------------------------\u001b[0m",
      "\u001b[0;31mNameError\u001b[0m                                 Traceback (most recent call last)",
      "\u001b[0;32m/tmp/ipykernel_20908/3583837694.py\u001b[0m in \u001b[0;36m<module>\u001b[0;34m\u001b[0m\n\u001b[1;32m      1\u001b[0m \u001b[0;32mfrom\u001b[0m \u001b[0mgrouping\u001b[0m \u001b[0;32mimport\u001b[0m \u001b[0mregroup\u001b[0m\u001b[0;34m\u001b[0m\u001b[0;34m\u001b[0m\u001b[0m\n\u001b[0;32m----> 2\u001b[0;31m \u001b[0mvirtual_site2\u001b[0m\u001b[0;34m(\u001b[0m\u001b[0mlist_of\u001b[0m\u001b[0;34m)\u001b[0m\u001b[0;34m\u001b[0m\u001b[0;34m\u001b[0m\u001b[0m\n\u001b[0m",
      "\u001b[0;32m~/Desktop/code/ITP_builder/itp_builder/vs.py\u001b[0m in \u001b[0;36mvirtual_site2\u001b[0;34m(list_of)\u001b[0m\n\u001b[1;32m      9\u001b[0m \u001b[0;34m\u001b[0m\u001b[0m\n\u001b[1;32m     10\u001b[0m \u001b[0;32mdef\u001b[0m \u001b[0mvirtual_site2\u001b[0m\u001b[0;34m(\u001b[0m\u001b[0mlist_of\u001b[0m\u001b[0;34m)\u001b[0m\u001b[0;34m:\u001b[0m\u001b[0;34m\u001b[0m\u001b[0;34m\u001b[0m\u001b[0m\n\u001b[0;32m---> 11\u001b[0;31m     \u001b[0mattach\u001b[0m \u001b[0;34m=\u001b[0m \u001b[0;34m[\u001b[0m\u001b[0;34m]\u001b[0m\u001b[0;34m\u001b[0m\u001b[0;34m\u001b[0m\u001b[0m\n\u001b[0m\u001b[1;32m     12\u001b[0m     \u001b[0;32mfor\u001b[0m \u001b[0mi\u001b[0m \u001b[0;32min\u001b[0m \u001b[0mlist_of\u001b[0m\u001b[0;34m:\u001b[0m\u001b[0;34m\u001b[0m\u001b[0;34m\u001b[0m\u001b[0m\n\u001b[1;32m     13\u001b[0m         \u001b[0mattach\u001b[0m\u001b[0;34m.\u001b[0m\u001b[0mappend\u001b[0m\u001b[0;34m(\u001b[0m\u001b[0mregroup\u001b[0m\u001b[0;34m(\u001b[0m\u001b[0mi\u001b[0m\u001b[0;34m)\u001b[0m\u001b[0;34m)\u001b[0m\u001b[0;34m\u001b[0m\u001b[0;34m\u001b[0m\u001b[0m\n",
      "\u001b[0;31mNameError\u001b[0m: name 'regroup' is not defined"
     ]
    }
   ],
   "source": [
    "from grouping import regroup\n",
    "virtual_site2(list_of)"
   ]
  },
  {
   "cell_type": "code",
   "execution_count": 26,
   "id": "09937dcc",
   "metadata": {},
   "outputs": [],
   "source": [
    "attach = []\n",
    "for i in list_of:\n",
    "    attach.append(regroup(i))"
   ]
  },
  {
   "cell_type": "code",
   "execution_count": 27,
   "id": "79beb21c",
   "metadata": {},
   "outputs": [
    {
     "data": {
      "text/plain": [
       "[[[1, 2, 3], [3, 4], [4, 5, 6], [6, 7], [7, 8, 9], [9, 10]],\n",
       " [[11, 12, 13], [13, 14], [14, 15, 16], [16, 17], [17, 18, 19], [19, 20]],\n",
       " [[21, 22, 23], [23, 24], [24, 25, 26], [26, 27], [27, 28, 29], [29, 30]],\n",
       " [[31, 32, 33], [33, 34], [34, 35, 36], [36, 37], [37, 38, 39], [39, 40]],\n",
       " [[41, 42, 43], [43, 44], [44, 45, 46], [46, 47], [47, 48, 49], [49, 50]],\n",
       " [[51, 52, 53], [53, 54], [54, 55, 56], [56, 57], [57, 58, 59], [59, 60]],\n",
       " [[61, 62, 63], [63, 64], [64, 65, 66], [66, 67], [67, 68, 69], [69, 70]],\n",
       " [[71, 72, 73], [73, 74], [74, 75, 76], [76, 77], [77, 78, 79], [79, 80]],\n",
       " [[81, 82, 83], [83, 84], [84, 85, 86], [86, 87], [87, 88, 89], [89, 90]]]"
      ]
     },
     "execution_count": 27,
     "metadata": {},
     "output_type": "execute_result"
    }
   ],
   "source": [
    "attach"
   ]
  },
  {
   "cell_type": "code",
   "execution_count": 28,
   "id": "f00889ef",
   "metadata": {},
   "outputs": [
    {
     "name": "stdout",
     "output_type": "stream",
     "text": [
      "11 1 21\n",
      "12 1 23\n",
      "13 3 23\n",
      "14 4 24\n",
      "15 4 26\n",
      "16 6 26\n",
      "17 7 27\n",
      "18 7 29\n",
      "19 9 29\n",
      "20 10 30\n",
      "31 21 41\n",
      "32 21 43\n",
      "33 23 43\n",
      "34 24 44\n",
      "35 24 46\n",
      "36 26 46\n",
      "37 27 47\n",
      "38 27 49\n",
      "39 29 49\n",
      "40 30 50\n",
      "51 41 61\n",
      "52 41 63\n",
      "53 43 63\n",
      "54 44 64\n",
      "55 44 66\n",
      "56 46 66\n",
      "57 47 67\n",
      "58 47 69\n",
      "59 49 69\n",
      "60 50 70\n",
      "71 61 81\n",
      "72 61 83\n",
      "73 63 83\n",
      "74 64 84\n",
      "75 64 86\n",
      "76 66 86\n",
      "77 67 87\n",
      "78 67 89\n",
      "79 69 89\n",
      "80 70 90\n"
     ]
    }
   ],
   "source": [
    "for i in range(len(attach)):\n",
    "        if i % 2 !=0:\n",
    "            for j in range(len(attach[i])):\n",
    "                if j==0: \n",
    "                    print(attach[i][j][0],attach[i-1][j][0], attach[i+1][j][0])\n",
    "                    print(attach[i][j][1], attach[i-1][j][0], attach[i+1][j][-1])\n",
    "                else:\n",
    "                    if len(attach[i][j]) == 3: \n",
    "                    \n",
    "                        print(attach[i][j][1],attach[i-1][j][0], attach[i+1][j][-1])\n",
    "                    elif len(attach[i][j]) == 2:\n",
    "                        print(attach[i][j][0], attach[i-1][j][0], attach[i+1][j][0])\n",
    "                        print(attach[i][j][-1], attach[i-1][j][-1], attach[i+1][j][-1])"
   ]
  },
  {
   "cell_type": "code",
   "execution_count": 29,
   "id": "cee5ac42",
   "metadata": {},
   "outputs": [
    {
     "name": "stdout",
     "output_type": "stream",
     "text": [
      "2    1    1    3\n",
      "5    1    4    6\n",
      "8    1    7    9\n",
      "22    1    21    23\n",
      "25    1    24    26\n",
      "28    1    27    29\n",
      "42    1    41    43\n",
      "45    1    44    46\n",
      "48    1    47    49\n",
      "62    1    61    63\n",
      "65    1    64    66\n",
      "68    1    67    69\n",
      "82    1    81    83\n",
      "85    1    84    86\n",
      "88    1    87    89\n"
     ]
    }
   ],
   "source": [
    "virtual_site1(new_list)"
   ]
  },
  {
   "cell_type": "code",
   "execution_count": 30,
   "id": "41a6a8c6",
   "metadata": {},
   "outputs": [],
   "source": [
    "def virtual_site1(new_list):\n",
    "    vs1 = []\n",
    "    for i in range(len(new_list)):\n",
    "        for j in range(len(new_list[i])):\n",
    "            if len(new_list[i][j])==3:\n",
    "                vs1.append([new_list[i][j][1], 1, new_list[i][j][0], new_list[i][j][2]])\n",
    "    return vs1"
   ]
  },
  {
   "cell_type": "code",
   "execution_count": 31,
   "id": "07004fe7",
   "metadata": {},
   "outputs": [],
   "source": [
    "def virtual_site2(list_of):\n",
    "    vs2 = []\n",
    "    attach = []\n",
    "    for i in list_of:\n",
    "        attach.append(regroup(i))\n",
    "    for i in range(len(attach)):\n",
    "        if i % 2 !=0:\n",
    "            for j in range(len(attach[i])):\n",
    "                if j==0: \n",
    "                    vs2.append([attach[i][j][0],1, attach[i-1][j][0], attach[i+1][j][0]])\n",
    "                    vs2.append([attach[i][j][1],1, attach[i-1][j][0], attach[i+1][j][-1]])\n",
    "                else:\n",
    "                    if len(attach[i][j]) == 3: \n",
    "\n",
    "                        vs2.append([attach[i][j][1],1,attach[i-1][j][0], attach[i+1][j][-1]])\n",
    "                    elif len(attach[i][j]) == 2:\n",
    "                        vs2.append([attach[i][j][0],1, attach[i-1][j][0], attach[i+1][j][0]])\n",
    "                        vs2.append([attach[i][j][-1],1, attach[i-1][j][-1], attach[i+1][j][-1]])\n",
    "    return vs2"
   ]
  },
  {
   "cell_type": "code",
   "execution_count": 33,
   "id": "3ae0cbbe",
   "metadata": {},
   "outputs": [
    {
     "data": {
      "text/plain": [
       "[[11, 1, 1, 21],\n",
       " [12, 1, 1, 23],\n",
       " [13, 1, 3, 23],\n",
       " [14, 1, 4, 24],\n",
       " [15, 1, 4, 26],\n",
       " [16, 1, 6, 26],\n",
       " [17, 1, 7, 27],\n",
       " [18, 1, 7, 29],\n",
       " [19, 1, 9, 29],\n",
       " [20, 1, 10, 30],\n",
       " [31, 1, 21, 41],\n",
       " [32, 1, 21, 43],\n",
       " [33, 1, 23, 43],\n",
       " [34, 1, 24, 44],\n",
       " [35, 1, 24, 46],\n",
       " [36, 1, 26, 46],\n",
       " [37, 1, 27, 47],\n",
       " [38, 1, 27, 49],\n",
       " [39, 1, 29, 49],\n",
       " [40, 1, 30, 50],\n",
       " [51, 1, 41, 61],\n",
       " [52, 1, 41, 63],\n",
       " [53, 1, 43, 63],\n",
       " [54, 1, 44, 64],\n",
       " [55, 1, 44, 66],\n",
       " [56, 1, 46, 66],\n",
       " [57, 1, 47, 67],\n",
       " [58, 1, 47, 69],\n",
       " [59, 1, 49, 69],\n",
       " [60, 1, 50, 70],\n",
       " [71, 1, 61, 81],\n",
       " [72, 1, 61, 83],\n",
       " [73, 1, 63, 83],\n",
       " [74, 1, 64, 84],\n",
       " [75, 1, 64, 86],\n",
       " [76, 1, 66, 86],\n",
       " [77, 1, 67, 87],\n",
       " [78, 1, 67, 89],\n",
       " [79, 1, 69, 89],\n",
       " [80, 1, 70, 90]]"
      ]
     },
     "execution_count": 33,
     "metadata": {},
     "output_type": "execute_result"
    }
   ],
   "source": [
    "virtual_site2(list_of)"
   ]
  },
  {
   "cell_type": "code",
   "execution_count": 36,
   "id": "ca67b7ce",
   "metadata": {},
   "outputs": [],
   "source": [
    "vs = virtual_site1(new_list) + virtual_site2(list_of)"
   ]
  },
  {
   "cell_type": "code",
   "execution_count": 37,
   "id": "d3fee68c",
   "metadata": {},
   "outputs": [
    {
     "data": {
      "text/plain": [
       "[[2, 1, 1, 3],\n",
       " [5, 1, 4, 6],\n",
       " [8, 1, 7, 9],\n",
       " [22, 1, 21, 23],\n",
       " [25, 1, 24, 26],\n",
       " [28, 1, 27, 29],\n",
       " [42, 1, 41, 43],\n",
       " [45, 1, 44, 46],\n",
       " [48, 1, 47, 49],\n",
       " [62, 1, 61, 63],\n",
       " [65, 1, 64, 66],\n",
       " [68, 1, 67, 69],\n",
       " [82, 1, 81, 83],\n",
       " [85, 1, 84, 86],\n",
       " [88, 1, 87, 89],\n",
       " [11, 1, 1, 21],\n",
       " [12, 1, 1, 23],\n",
       " [13, 1, 3, 23],\n",
       " [14, 1, 4, 24],\n",
       " [15, 1, 4, 26],\n",
       " [16, 1, 6, 26],\n",
       " [17, 1, 7, 27],\n",
       " [18, 1, 7, 29],\n",
       " [19, 1, 9, 29],\n",
       " [20, 1, 10, 30],\n",
       " [31, 1, 21, 41],\n",
       " [32, 1, 21, 43],\n",
       " [33, 1, 23, 43],\n",
       " [34, 1, 24, 44],\n",
       " [35, 1, 24, 46],\n",
       " [36, 1, 26, 46],\n",
       " [37, 1, 27, 47],\n",
       " [38, 1, 27, 49],\n",
       " [39, 1, 29, 49],\n",
       " [40, 1, 30, 50],\n",
       " [51, 1, 41, 61],\n",
       " [52, 1, 41, 63],\n",
       " [53, 1, 43, 63],\n",
       " [54, 1, 44, 64],\n",
       " [55, 1, 44, 66],\n",
       " [56, 1, 46, 66],\n",
       " [57, 1, 47, 67],\n",
       " [58, 1, 47, 69],\n",
       " [59, 1, 49, 69],\n",
       " [60, 1, 50, 70],\n",
       " [71, 1, 61, 81],\n",
       " [72, 1, 61, 83],\n",
       " [73, 1, 63, 83],\n",
       " [74, 1, 64, 84],\n",
       " [75, 1, 64, 86],\n",
       " [76, 1, 66, 86],\n",
       " [77, 1, 67, 87],\n",
       " [78, 1, 67, 89],\n",
       " [79, 1, 69, 89],\n",
       " [80, 1, 70, 90]]"
      ]
     },
     "execution_count": 37,
     "metadata": {},
     "output_type": "execute_result"
    }
   ],
   "source": [
    "vs"
   ]
  },
  {
   "cell_type": "code",
   "execution_count": 39,
   "id": "e755e1b9",
   "metadata": {},
   "outputs": [],
   "source": [
    "dc = {}\n",
    "il = []\n",
    "for i in list_of:\n",
    "    for j in i:\n",
    "        il.append(j)\n",
    "    for i in il:\n",
    "        dc[i] = 36\n",
    "    \n",
    "    for i in range(len(vs)):\n",
    "        dc[vs[i][0]] = 0\n",
    "        \n",
    "    for i in range(len(vs)):\n",
    "        for j, k in dc.items():\n",
    "            if j in vs[i][-2:]:\n",
    "                dc[j] +=18"
   ]
  },
  {
   "cell_type": "code",
   "execution_count": 41,
   "id": "e05dbdf5",
   "metadata": {},
   "outputs": [
    {
     "name": "stdout",
     "output_type": "stream",
     "text": [
      "{1: 90, 2: 0, 3: 72, 4: 90, 5: 0, 6: 72, 7: 90, 8: 0, 9: 72, 10: 54, 22: 0, 25: 0, 28: 0, 42: 0, 45: 0, 48: 0, 62: 0, 65: 0, 68: 0, 82: 0, 85: 0, 88: 0, 11: 0, 12: 0, 13: 0, 14: 0, 15: 0, 16: 0, 17: 0, 18: 0, 19: 0, 20: 0, 31: 0, 32: 0, 33: 0, 34: 0, 35: 0, 36: 0, 37: 0, 38: 0, 39: 0, 40: 0, 51: 0, 52: 0, 53: 0, 54: 0, 55: 0, 56: 0, 57: 0, 58: 0, 59: 0, 60: 0, 71: 0, 72: 0, 73: 0, 74: 0, 75: 0, 76: 0, 77: 0, 78: 0, 79: 0, 80: 0, 21: 108, 23: 108, 24: 108, 26: 108, 27: 108, 29: 108, 30: 72, 41: 108, 43: 108, 44: 108, 46: 108, 47: 108, 49: 108, 50: 72, 61: 108, 63: 108, 64: 108, 66: 108, 67: 108, 69: 108, 70: 72, 81: 72, 83: 90, 84: 72, 86: 90, 87: 72, 89: 90, 90: 54}\n"
     ]
    }
   ],
   "source": [
    "print(dc)"
   ]
  },
  {
   "cell_type": "code",
   "execution_count": 48,
   "id": "362bcc6d",
   "metadata": {},
   "outputs": [
    {
     "data": {
      "text/plain": [
       "array([ 1,  2,  3,  4,  5,  6,  7,  8,  9, 10, 11, 12, 13, 14, 15, 16, 17,\n",
       "       18, 19, 20, 21, 22, 23, 24, 25, 26, 27, 28, 29, 30, 31, 32, 33, 34,\n",
       "       35, 36, 37, 38, 39, 40, 41, 42, 43, 44, 45, 46, 47, 48, 49, 50, 51,\n",
       "       52, 53, 54, 55, 56, 57, 58, 59, 60, 61, 62, 63, 64, 65, 66, 67, 68,\n",
       "       69, 70, 71, 72, 73, 74, 75, 76, 77, 78, 79, 80, 81, 82, 83, 84, 85,\n",
       "       86, 87, 88, 89, 90])"
      ]
     },
     "execution_count": 48,
     "metadata": {},
     "output_type": "execute_result"
    }
   ],
   "source": [
    "np.arange(1,91)"
   ]
  },
  {
   "cell_type": "code",
   "execution_count": 156,
   "id": "858f7283",
   "metadata": {},
   "outputs": [],
   "source": [
    "with open('graphene.itp', 'w+') as f:\n",
    "    f.write(\";;;;;Graphene\\n\\n[ moleculetype ]\\n; molname nrexcl\\n   GRA       1;\\n\\n[ atoms ]\\n; nr type resnr residue atom cgnr charge mass \\n\")\n",
    "    for i in np.arange(1,91):\n",
    "        f.write(f\"   {i:4}   TC5   0   GRA   B{i}   {i:4}   {0:4}   {dc[i]:4}\\n\")\n",
    "    f.write(\"\\n\\n\")\n",
    "    f.write(\"[ bonds ]\\n\")\n",
    "    f.write(\"; i j funct length kb\\n\")\n",
    "    bond_core(new_list, f)\n",
    "    long_diagonal_bond(new_list,f)\n",
    "    short_diag_bond(new_list,f)\n",
    "    side_left(list_of, f)\n",
    "    side_right(list_of, f)\n",
    "    f.write(\"\\n\\n\")\n",
    "    f.write(\"#ifndef FLEXIBLE\\n\")\n",
    "    f.write(\"[constraints]\\n\")\n",
    "    f.write(\"#endif\\n\")\n",
    "    f.write(\"; i j funct length \\n\")\n",
    "    middle_constraint(new_list,f)\n",
    "    f.write(\"\\n\\n\")\n",
    "    f.write(\"[ dihedrals ]\\n\")\n",
    "    f.write(\";  i j k l funct ref.angle force_k\\n\")\n",
    "    main_dihedral(new_list,f)\n",
    "    across_dihedral(new_list,f)\n",
    "    vertical_diagonal(new_list, f)\n",
    "    f.write(\"\\n\\n\")\n",
    "    f.write(\"[ virtual_sitesn ]\\n\")\n",
    "    f.write(\"; site funct constructing atom indices\\n\")\n",
    "    virtual_site(new_list, list_of, f)\n",
    "    f.write(\"\\n\\n\")\n",
    "    f.write(\"[ exclusions ]\\n\")\n",
    "    exclusions(list_of)\n",
    "    \n",
    "    \n",
    "\n",
    "    \n",
    "\n",
    "    \n",
    "\n",
    "\n",
    " \n",
    "\n",
    "    "
   ]
  },
  {
   "cell_type": "code",
   "execution_count": 72,
   "id": "462755c8",
   "metadata": {},
   "outputs": [
    {
     "ename": "ImportError",
     "evalue": "cannot import name 'bond_core' from 'core_bond' (/home/rshrestha/Desktop/code/ITP_builder/itp_builder/core_bond.py)",
     "output_type": "error",
     "traceback": [
      "\u001b[0;31m---------------------------------------------------------------------------\u001b[0m",
      "\u001b[0;31mImportError\u001b[0m                               Traceback (most recent call last)",
      "\u001b[0;32m/tmp/ipykernel_20908/3400799383.py\u001b[0m in \u001b[0;36m<module>\u001b[0;34m\u001b[0m\n\u001b[0;32m----> 1\u001b[0;31m \u001b[0;32mfrom\u001b[0m \u001b[0mcore_bond\u001b[0m \u001b[0;32mimport\u001b[0m \u001b[0mbond_core\u001b[0m\u001b[0;34m\u001b[0m\u001b[0;34m\u001b[0m\u001b[0m\n\u001b[0m",
      "\u001b[0;31mImportError\u001b[0m: cannot import name 'bond_core' from 'core_bond' (/home/rshrestha/Desktop/code/ITP_builder/itp_builder/core_bond.py)"
     ]
    }
   ],
   "source": [
    "from core_bond import bond_core"
   ]
  },
  {
   "cell_type": "code",
   "execution_count": 68,
   "id": "0ea5c725",
   "metadata": {},
   "outputs": [
    {
     "name": "stdout",
     "output_type": "stream",
     "text": [
      "4    [89, 90]    0.47324\n",
      "4    [89, 90]    0.47324\n",
      "4    [89, 90]    0.47324\n",
      "4    [89, 90]    0.47324\n",
      "4    [89, 90]    0.47324\n",
      "4    [89, 90]    0.47324\n",
      "4    [89, 90]    0.47324\n",
      "4    [89, 90]    0.47324\n",
      "4    [89, 90]    0.47324\n",
      "4    [89, 90]    0.47324\n",
      "4    [89, 90]    0.47324\n",
      "4    [89, 90]    0.47324\n",
      "4    [89, 90]    0.47324\n",
      "4    [89, 90]    0.47324\n",
      "4    [89, 90]    0.47324\n"
     ]
    }
   ],
   "source": [
    "core_bond(new_list)"
   ]
  },
  {
   "cell_type": "code",
   "execution_count": 59,
   "id": "387ff9f6",
   "metadata": {},
   "outputs": [],
   "source": [
    "core_i = []\n",
    "for i in range(len(new_list)):\n",
    "    for j in new_list[i]:\n",
    "        if len(j) == 3:\n",
    "            core_i.append(j[0])"
   ]
  },
  {
   "cell_type": "code",
   "execution_count": 60,
   "id": "03584f46",
   "metadata": {},
   "outputs": [
    {
     "data": {
      "text/plain": [
       "[1, 4, 7, 21, 24, 27, 41, 44, 47, 61, 64, 67, 81, 84, 87]"
      ]
     },
     "execution_count": 60,
     "metadata": {},
     "output_type": "execute_result"
    }
   ],
   "source": [
    "core_i"
   ]
  },
  {
   "cell_type": "code",
   "execution_count": 61,
   "id": "b719d0fd",
   "metadata": {},
   "outputs": [],
   "source": [
    "core_j = []\n",
    "for i in range(len(new_list)):\n",
    "    for j in new_list[i]:\n",
    "        if len(j) == 3:\n",
    "            core_j.append(j[-1])"
   ]
  },
  {
   "cell_type": "code",
   "execution_count": 62,
   "id": "8f6b8320",
   "metadata": {},
   "outputs": [
    {
     "data": {
      "text/plain": [
       "[3, 6, 9, 23, 26, 29, 43, 46, 49, 63, 66, 69, 83, 86, 89]"
      ]
     },
     "execution_count": 62,
     "metadata": {},
     "output_type": "execute_result"
    }
   ],
   "source": [
    "core_j"
   ]
  },
  {
   "cell_type": "code",
   "execution_count": 63,
   "id": "59201a33",
   "metadata": {},
   "outputs": [
    {
     "data": {
      "text/plain": [
       "15"
      ]
     },
     "execution_count": 63,
     "metadata": {},
     "output_type": "execute_result"
    }
   ],
   "source": [
    "len(core_i)"
   ]
  },
  {
   "cell_type": "code",
   "execution_count": 64,
   "id": "2aea888a",
   "metadata": {},
   "outputs": [
    {
     "data": {
      "text/plain": [
       "15"
      ]
     },
     "execution_count": 64,
     "metadata": {},
     "output_type": "execute_result"
    }
   ],
   "source": [
    "len(core_j)"
   ]
  },
  {
   "cell_type": "code",
   "execution_count": 76,
   "id": "ea406e94",
   "metadata": {},
   "outputs": [
    {
     "name": "stdout",
     "output_type": "stream",
     "text": [
      "   1        3       1    0.47324\n",
      "   4        6       1    0.47324\n",
      "   7        9       1    0.47324\n",
      "  21       23       1    0.47324\n",
      "  24       26       1    0.47324\n",
      "  27       29       1    0.47324\n",
      "  41       43       1    0.47324\n",
      "  44       46       1    0.47324\n",
      "  47       49       1    0.47324\n",
      "  61       63       1    0.47324\n",
      "  64       66       1    0.47324\n",
      "  67       69       1    0.47324\n",
      "  81       83       1    0.47324\n",
      "  84       86       1    0.47324\n",
      "  87       89       1    0.47324\n"
     ]
    }
   ],
   "source": [
    "for id1, id2 in zip(core_i, core_j):\n",
    "    print(f\"{id1:4}     {id2:4}    {1:4}    {0.47324:4}\")"
   ]
  },
  {
   "cell_type": "code",
   "execution_count": 95,
   "id": "5e7906f8",
   "metadata": {},
   "outputs": [],
   "source": [
    "def bond_core(new_list, f):\n",
    "        core_i = []\n",
    "        core_j = []\n",
    "        for i in range(len(new_list)):\n",
    "            for j in new_list[i]:\n",
    "                if len(j) == 3:\n",
    "                    core_i.append(j[0])\n",
    "                    core_j.append(j[-1])\n",
    "        for id1, id2 in zip(core_i, core_j):\n",
    "            f.write(f\"{id1:4}     {id2:4}    {1:4}    {0.47324:4}\\n\")\n",
    "    "
   ]
  },
  {
   "cell_type": "code",
   "execution_count": 91,
   "id": "2a536a74",
   "metadata": {},
   "outputs": [
    {
     "name": "stdout",
     "output_type": "stream",
     "text": [
      "None\n"
     ]
    }
   ],
   "source": [
    "print(bond_core(new_list, 'graphene.itp'))"
   ]
  },
  {
   "cell_type": "code",
   "execution_count": 97,
   "id": "464208a9",
   "metadata": {},
   "outputs": [],
   "source": [
    "def long_diagonal_bond(new_list, f):\n",
    "    long_diag_1 = []\n",
    "    long_diag_2 = []\n",
    "    for i in range(len(new_list)):\n",
    "        if i == len(new_list)-1:\n",
    "            continue\n",
    "        for j in new_list[i]:\n",
    "            if len(j) == 3:\n",
    "                long_diag_1.append(j[0])\n",
    "            \n",
    "    for i in range(len(new_list)):\n",
    "        if i == 0:\n",
    "            continue\n",
    "        for j in new_list[i]:\n",
    "            if len(j) == 2:\n",
    "                long_diag_2.append(j[0])\n",
    "                \n",
    "    for index1, index2 in zip(long_diag_1, long_diag_2):\n",
    "        f.write(f\"{index1:4}    {index2:4}    {1:4}    {0.69393:4}\\n\")\n",
    "        \n",
    "    "
   ]
  },
  {
   "cell_type": "code",
   "execution_count": 99,
   "id": "18d5900c",
   "metadata": {},
   "outputs": [],
   "source": [
    "def short_diag_bond(new_list, f):\n",
    "    short_diag_1 = []\n",
    "    short_diag_2 = []\n",
    "\n",
    "    for i in range(len(new_list)):\n",
    "        if i == len(new_list)-1:\n",
    "            continue\n",
    "        for j in new_list[i]:\n",
    "            if len(j) == 2:\n",
    "                short_diag_1.append(j[0])\n",
    "            \n",
    "    for i in range(len(new_list)):\n",
    "        if i == 0:\n",
    "            continue\n",
    "        for j in new_list[i]:\n",
    "            if len(j) == 2:\n",
    "                short_diag_2.append(j[-1])\n",
    "            \n",
    "    \n",
    "    for index1, index2 in zip(short_diag_1, short_diag_2):\n",
    "        f.write(f\"{index1:4}    {index2:4}    {1:4}    {0.53627:4}\\n\")\n",
    "    "
   ]
  },
  {
   "cell_type": "code",
   "execution_count": 103,
   "id": "615940bd",
   "metadata": {},
   "outputs": [],
   "source": [
    "def side_left(list_of, f):\n",
    "    side_left = []\n",
    "    for i in range(len(list_of)):\n",
    "        if i % 2 == 0:\n",
    "            side_left.append(list_of[i][0])\n",
    "    sides = [side_left[i:i+2] for i in range(len(side_left)) if len(side_left[i:i+2]) == 2]\n",
    "    for i in sides:\n",
    "        f.write(f'{i[0]:4}    {i[-1]:4}    {1:4}    {0.52798:4}\\n')"
   ]
  },
  {
   "cell_type": "code",
   "execution_count": 105,
   "id": "5ff8173d",
   "metadata": {},
   "outputs": [],
   "source": [
    "def side_right(list_of, f):\n",
    "    side_right = []\n",
    "    for i in range(len(list_of)):\n",
    "        if i % 2 == 0:\n",
    "            side_right.append(list_of[i][-1])\n",
    "    sides = [side_right[i:i+2] for i in range(len(side_right)) if len(side_right[i:i+2]) == 2]\n",
    "    for i in sides:\n",
    "        f.write(f'{i[0]:4}    {i[-1]:4}    {1:4}    {0.52798:4}\\n')"
   ]
  },
  {
   "cell_type": "code",
   "execution_count": 107,
   "id": "1c71fa19",
   "metadata": {},
   "outputs": [
    {
     "name": "stdout",
     "output_type": "stream",
     "text": [
      "[[[1, 2, 3], [3, 4], [4, 5, 6], [6, 7], [7, 8, 9], [9, 10]], [[21, 22, 23], [23, 24], [24, 25, 26], [26, 27], [27, 28, 29], [29, 30]], [[41, 42, 43], [43, 44], [44, 45, 46], [46, 47], [47, 48, 49], [49, 50]], [[61, 62, 63], [63, 64], [64, 65, 66], [66, 67], [67, 68, 69], [69, 70]], [[81, 82, 83], [83, 84], [84, 85, 86], [86, 87], [87, 88, 89], [89, 90]]]\n"
     ]
    }
   ],
   "source": [
    "print(new_list)"
   ]
  },
  {
   "cell_type": "code",
   "execution_count": 108,
   "id": "b2a8ffba",
   "metadata": {},
   "outputs": [],
   "source": [
    "def middle_constraint(new_list, f):\n",
    "    constraints = []\n",
    "    for i in new_list:\n",
    "        for j in i:\n",
    "            if len(j) == 2:\n",
    "                constraints.append(j)\n",
    "    for i in constraints:\n",
    "        f.write(f\"{i[0]:4}    {i[-1]:4}    {1:4}    {0.21170:4}    {1000000:4}\\n\")\n",
    "        "
   ]
  },
  {
   "cell_type": "code",
   "execution_count": 118,
   "id": "f8df5d54",
   "metadata": {},
   "outputs": [],
   "source": [
    "def main_dihedral(new_list, f):\n",
    "    first = []\n",
    "    second = []\n",
    "    for i in range(len(new_list)-1):\n",
    "        for m in new_list[i]:\n",
    "            if len(m) == 3:\n",
    "                first.append(m[::-1][0:3:2])\n",
    "            elif len(m) == 2:\n",
    "                first.append(m[::-1])\n",
    "                \n",
    "    for i in range(1, len(new_list)):\n",
    "        for m in new_list[i]:\n",
    "            if len(m) == 3:\n",
    "                second.append(m[::-1][0:3:2])\n",
    "            elif len(m) == 2:\n",
    "                second.append(m[::-1])\n",
    "                \n",
    "    for i, j in zip(first, second):\n",
    "        f.write(f'{i[0]:4}{i[1]:4}{j[0]:4}{j[1]:4}{2:4}{180:4}{400:4}\\n')\n",
    "            "
   ]
  },
  {
   "cell_type": "code",
   "execution_count": 115,
   "id": "b76108d9",
   "metadata": {},
   "outputs": [
    {
     "name": "stdout",
     "output_type": "stream",
     "text": [
      "   3   1  23  21   2 180 400\n",
      "   4   3  24  23   2 180 400\n",
      "   6   4  26  24   2 180 400\n",
      "   7   6  27  26   2 180 400\n",
      "   9   7  29  27   2 180 400\n",
      "  10   9  30  29   2 180 400\n",
      "  23  21  43  41   2 180 400\n",
      "  24  23  44  43   2 180 400\n",
      "  26  24  46  44   2 180 400\n",
      "  27  26  47  46   2 180 400\n",
      "  29  27  49  47   2 180 400\n",
      "  30  29  50  49   2 180 400\n",
      "  43  41  63  61   2 180 400\n",
      "  44  43  64  63   2 180 400\n",
      "  46  44  66  64   2 180 400\n",
      "  47  46  67  66   2 180 400\n",
      "  49  47  69  67   2 180 400\n",
      "  50  49  70  69   2 180 400\n",
      "  63  61  83  81   2 180 400\n",
      "  64  63  84  83   2 180 400\n",
      "  66  64  86  84   2 180 400\n",
      "  67  66  87  86   2 180 400\n",
      "  69  67  89  87   2 180 400\n",
      "  70  69  90  89   2 180 400\n"
     ]
    }
   ],
   "source": [
    "main_dihedral(new_list)"
   ]
  },
  {
   "cell_type": "code",
   "execution_count": 120,
   "id": "aca85e2e",
   "metadata": {},
   "outputs": [],
   "source": [
    "def across_dihedral(new_list, f):\n",
    "    a_list = []\n",
    "    b_list = []\n",
    "    middle1 = []\n",
    "    middle2 = []\n",
    "    for i in range(len(new_list)-1):\n",
    "        for m in new_list[i]:\n",
    "            if len(m) == 3:\n",
    "                middle1.append(m[::][0:3:2])\n",
    "            elif len(m) == 2:\n",
    "                middle1.append(m[::-1])\n",
    "    \n",
    "    for i in range(1, len(new_list)):\n",
    "        for m in new_list[i]:\n",
    "            if len(m) == 3:\n",
    "                middle2.append(m[::-1][0:3:2])\n",
    "            elif len(m) == 2:\n",
    "                middle2.append(m[::-1])\n",
    "    \n",
    "    \n",
    "    ab = list(zip(middle1, middle2))\n",
    "    \n",
    "    for i in range(len(ab)):\n",
    "        if i %2 == 0:\n",
    "            a_list.append([ab[i][0][0], ab[i][1][0]])\n",
    "        else:\n",
    "            b_list.append([ab[i][0][1], ab[i][1][0]])\n",
    "            \n",
    "            \n",
    "    for i, j in zip(a_list, b_list):\n",
    "        f.write(f'{i[0]:4}{i[1]:4}{j[0]:4}{j[1]:4}{2:4}{180:4}{400:4}\\n')\n",
    "    "
   ]
  },
  {
   "cell_type": "code",
   "execution_count": 135,
   "id": "ede1a79d",
   "metadata": {},
   "outputs": [],
   "source": [
    "def vertical_diagonal(new_list, f):\n",
    "    i = 0\n",
    "    while i < len(new_list)-2:\n",
    "        for j in range(len(new_list[i])):\n",
    "            if len(new_list[i][j]) == 3:\n",
    "                f.write(f\"{new_list[i][j][0]:4}{new_list[i+1][j][::-1][0]:4}{new_list[i+1][j][::-1][1]:4}{new_list[i+2][j][-1]:4}{2:4}{180:4}{400:4}\\n\")\n",
    "            elif len(new_list[i][j]) == 2:\n",
    "                f.write(f\"{new_list[i][j][0]:4}{new_list[i+1][j][::-1][0]:4}{new_list[i+1][j][::-1][1]:4}{new_list[i+2][j][-1]:4}{2:4}{180:4}{400:4}\\n\")\n",
    "        i = i+1"
   ]
  },
  {
   "cell_type": "code",
   "execution_count": 127,
   "id": "3521238d",
   "metadata": {},
   "outputs": [],
   "source": [
    "def vertical_diagonal(new_list):\n",
    "    i = 0\n",
    "    while i < len(new_list)-2:\n",
    "        for j in range(len(new_list[i])):\n",
    "            if len(new_list[i][j]) == 3:\n",
    "                print(new_list[i][j][0], *new_list[i+1][j][::-1][0:2], new_list[i+2][j][-1], 2, 180, sep = '    ')\n",
    "            elif len(new_list[i][j]) == 2:\n",
    "                print(new_list[i][j][0], *new_list[i+1][j][::-1], new_list[i+2][j][-1], 2, 180, sep = '    ')\n",
    "        i = i+1"
   ]
  },
  {
   "cell_type": "code",
   "execution_count": 128,
   "id": "4dc4b764",
   "metadata": {},
   "outputs": [
    {
     "name": "stdout",
     "output_type": "stream",
     "text": [
      "1    23    22    43    2    180\n",
      "3    24    23    44    2    180\n",
      "4    26    25    46    2    180\n",
      "6    27    26    47    2    180\n",
      "7    29    28    49    2    180\n",
      "9    30    29    50    2    180\n",
      "21    43    42    63    2    180\n",
      "23    44    43    64    2    180\n",
      "24    46    45    66    2    180\n",
      "26    47    46    67    2    180\n",
      "27    49    48    69    2    180\n",
      "29    50    49    70    2    180\n",
      "41    63    62    83    2    180\n",
      "43    64    63    84    2    180\n",
      "44    66    65    86    2    180\n",
      "46    67    66    87    2    180\n",
      "47    69    68    89    2    180\n",
      "49    70    69    90    2    180\n"
     ]
    }
   ],
   "source": [
    "vertical_diagonal(new_list)"
   ]
  },
  {
   "cell_type": "code",
   "execution_count": 129,
   "id": "3fbd6d80",
   "metadata": {},
   "outputs": [],
   "source": [
    "def vertical_diagonal(new_list):\n",
    "    i = 0\n",
    "    while i < len(new_list)-2:\n",
    "        for j in range(len(new_list[i])):\n",
    "            if len(new_list[i][j]) == 3:\n",
    "                print(new_list[i][j][0], new_list[i+1][j][::-1][0:2][0],new_list[i+1][j][::-1][0:2][1],new_list[i+2][j][-1], 2, 180, sep = '    ')\n",
    "            elif len(new_list[i][j]) == 2:\n",
    "                print(new_list[i][j][0], new_list[i+1][j][::-1][0],new_list[i+1][j][::-1][1],new_list[i+2][j][-1], 2, 180, sep = '    ')\n",
    "        i = i+1"
   ]
  },
  {
   "cell_type": "code",
   "execution_count": 130,
   "id": "860f7ea6",
   "metadata": {},
   "outputs": [
    {
     "name": "stdout",
     "output_type": "stream",
     "text": [
      "1    23    22    43    2    180\n",
      "3    24    23    44    2    180\n",
      "4    26    25    46    2    180\n",
      "6    27    26    47    2    180\n",
      "7    29    28    49    2    180\n",
      "9    30    29    50    2    180\n",
      "21    43    42    63    2    180\n",
      "23    44    43    64    2    180\n",
      "24    46    45    66    2    180\n",
      "26    47    46    67    2    180\n",
      "27    49    48    69    2    180\n",
      "29    50    49    70    2    180\n",
      "41    63    62    83    2    180\n",
      "43    64    63    84    2    180\n",
      "44    66    65    86    2    180\n",
      "46    67    66    87    2    180\n",
      "47    69    68    89    2    180\n",
      "49    70    69    90    2    180\n"
     ]
    }
   ],
   "source": [
    "vertical_diagonal(new_list)"
   ]
  },
  {
   "cell_type": "code",
   "execution_count": 140,
   "id": "34193d01",
   "metadata": {},
   "outputs": [
    {
     "data": {
      "text/plain": [
       "[[11, 1, 1, 21],\n",
       " [12, 1, 1, 23],\n",
       " [13, 1, 3, 23],\n",
       " [14, 1, 4, 24],\n",
       " [15, 1, 4, 26],\n",
       " [16, 1, 6, 26],\n",
       " [17, 1, 7, 27],\n",
       " [18, 1, 7, 29],\n",
       " [19, 1, 9, 29],\n",
       " [20, 1, 10, 30],\n",
       " [31, 1, 21, 41],\n",
       " [32, 1, 21, 43],\n",
       " [33, 1, 23, 43],\n",
       " [34, 1, 24, 44],\n",
       " [35, 1, 24, 46],\n",
       " [36, 1, 26, 46],\n",
       " [37, 1, 27, 47],\n",
       " [38, 1, 27, 49],\n",
       " [39, 1, 29, 49],\n",
       " [40, 1, 30, 50],\n",
       " [51, 1, 41, 61],\n",
       " [52, 1, 41, 63],\n",
       " [53, 1, 43, 63],\n",
       " [54, 1, 44, 64],\n",
       " [55, 1, 44, 66],\n",
       " [56, 1, 46, 66],\n",
       " [57, 1, 47, 67],\n",
       " [58, 1, 47, 69],\n",
       " [59, 1, 49, 69],\n",
       " [60, 1, 50, 70],\n",
       " [71, 1, 61, 81],\n",
       " [72, 1, 61, 83],\n",
       " [73, 1, 63, 83],\n",
       " [74, 1, 64, 84],\n",
       " [75, 1, 64, 86],\n",
       " [76, 1, 66, 86],\n",
       " [77, 1, 67, 87],\n",
       " [78, 1, 67, 89],\n",
       " [79, 1, 69, 89],\n",
       " [80, 1, 70, 90]]"
      ]
     },
     "execution_count": 140,
     "metadata": {},
     "output_type": "execute_result"
    }
   ],
   "source": [
    "virtual_site2(list_of)"
   ]
  },
  {
   "cell_type": "code",
   "execution_count": 141,
   "id": "9ad33980",
   "metadata": {},
   "outputs": [],
   "source": [
    "def virtual_site(new_list, list_of, f):\n",
    "    vs = virtual_site1(new_list) + virtual_site2(list_of)\n",
    "    for i in vs:\n",
    "        f.write(f\"{i[0]:4}{i[1]:4}{i[2]:4}{i[3]:4}\\n\")"
   ]
  },
  {
   "cell_type": "code",
   "execution_count": 149,
   "id": "d7d070d0",
   "metadata": {},
   "outputs": [],
   "source": [
    "from grouping import regroup\n",
    "def exclusions(list_of):\n",
    "    for_excl = []\n",
    "    for i in list_of:\n",
    "        for_excl.append(regroup(i))\n",
    "    for i in range(len(list_of)):\n",
    "        if i % 2 !=0:\n",
    "            for j in range(0,len(list_of[i])):\n",
    "                if j == 0:\n",
    "                    print(list_of[i][j], list_of[i][j+1], list_of[i-1][j+1], list_of[i-1][j], list_of[i+1][j+1], list_of[i+1][j])\n",
    "                elif j == len(list_of[i])-1:\n",
    "                    print(list_of[i][j], list_of[i][j-1],list_of[i-1][j-1], list_of[i-1][j], list_of[i+1][j-1], list_of[i+1][j])\n",
    "                else:\n",
    "                    print(list_of[i][j], list_of[i][j+1], list_of[i-1][j], list_of[i-1][j+1],list_of[i+1][j], list_of[i+1][j+1], list_of[i][j-1], list_of[i-1][j-1], list_of[i+1][j-1])\n",
    "    \n",
    "    for i in range(len(for_excl)):\n",
    "        if i == 0:\n",
    "            for j in range(len(for_excl[i])):\n",
    "                if len(for_excl[i][j]) == 3:\n",
    "                    print(for_excl[i][j][1], for_excl[i][j][0], for_excl[i][j][-1], for_excl[i+1][j])\n",
    "                    \n",
    "        elif i == len(for_excl) - 1:\n",
    "            for j in range(len(for_excl[i])):   \n",
    "                if len(for_excl[i][j]) == 3:\n",
    "                     print(for_excl[i][j][1], for_excl[i][j][0], for_excl[i][j][-1], for_excl[i-1][j])"
   ]
  },
  {
   "cell_type": "code",
   "execution_count": 150,
   "id": "e7b52f91",
   "metadata": {},
   "outputs": [
    {
     "name": "stdout",
     "output_type": "stream",
     "text": [
      "11 12 2 1 22 21\n",
      "12 13 2 3 22 23 11 1 21\n",
      "13 14 3 4 23 24 12 2 22\n",
      "14 15 4 5 24 25 13 3 23\n",
      "15 16 5 6 25 26 14 4 24\n",
      "16 17 6 7 26 27 15 5 25\n",
      "17 18 7 8 27 28 16 6 26\n",
      "18 19 8 9 28 29 17 7 27\n",
      "19 20 9 10 29 30 18 8 28\n",
      "20 19 9 10 29 30\n",
      "31 32 22 21 42 41\n",
      "32 33 22 23 42 43 31 21 41\n",
      "33 34 23 24 43 44 32 22 42\n",
      "34 35 24 25 44 45 33 23 43\n",
      "35 36 25 26 45 46 34 24 44\n",
      "36 37 26 27 46 47 35 25 45\n",
      "37 38 27 28 47 48 36 26 46\n",
      "38 39 28 29 48 49 37 27 47\n",
      "39 40 29 30 49 50 38 28 48\n",
      "40 39 29 30 49 50\n",
      "51 52 42 41 62 61\n",
      "52 53 42 43 62 63 51 41 61\n",
      "53 54 43 44 63 64 52 42 62\n",
      "54 55 44 45 64 65 53 43 63\n",
      "55 56 45 46 65 66 54 44 64\n",
      "56 57 46 47 66 67 55 45 65\n",
      "57 58 47 48 67 68 56 46 66\n",
      "58 59 48 49 68 69 57 47 67\n",
      "59 60 49 50 69 70 58 48 68\n",
      "60 59 49 50 69 70\n",
      "71 72 62 61 82 81\n",
      "72 73 62 63 82 83 71 61 81\n",
      "73 74 63 64 83 84 72 62 82\n",
      "74 75 64 65 84 85 73 63 83\n",
      "75 76 65 66 85 86 74 64 84\n",
      "76 77 66 67 86 87 75 65 85\n",
      "77 78 67 68 87 88 76 66 86\n",
      "78 79 68 69 88 89 77 67 87\n",
      "79 80 69 70 89 90 78 68 88\n",
      "80 79 69 70 89 90\n",
      "2 1 3 [11, 12, 13]\n",
      "5 4 6 [14, 15, 16]\n",
      "8 7 9 [17, 18, 19]\n",
      "82 81 83 [71, 72, 73]\n",
      "85 84 86 [74, 75, 76]\n",
      "88 87 89 [77, 78, 79]\n"
     ]
    }
   ],
   "source": [
    "exclusions(list_of)"
   ]
  },
  {
   "cell_type": "code",
   "execution_count": 151,
   "id": "9384fdf4",
   "metadata": {},
   "outputs": [],
   "source": [
    "from grouping import regroup\n",
    "def exclusions(list_of):\n",
    "    for_excl = []\n",
    "    for i in list_of:\n",
    "        for_excl.append(regroup(i))\n",
    "    for i in range(len(list_of)):\n",
    "        if i % 2 !=0:\n",
    "            for j in range(0,len(list_of[i])):\n",
    "                if j == 0:\n",
    "                    f.write(f\"{list_of[i][j]}  {list_of[i][j+1]}  {list_of[i-1][j+1]}  {list_of[i-1][j]}  {list_of[i+1][j+1]}  {list_of[i+1][j]}\")\n",
    "                elif j == len(list_of[i])-1:\n",
    "                    f.write(f\"{list_of[i][j]}  {list_of[i][j-1]}  {list_of[i-1][j-1]}  {list_of[i-1][j]}  {list_of[i+1][j-1]}  {list_of[i+1][j]}\")\n",
    "                else:\n",
    "                    f.write(f\"{list_of[i][j]}  {list_of[i][j+1]}  {list_of[i-1][j]}  {list_of[i-1][j+1]}  {list_of[i+1][j]}  {list_of[i+1][j+1]}  {list_of[i][j-1]}  {list_of[i-1][j-1]}  {list_of[i+1][j-1]}\")\n",
    "    \n",
    "    for i in range(len(for_excl)):\n",
    "        if i == 0:\n",
    "            for j in range(len(for_excl[i])):\n",
    "                if len(for_excl[i][j]) == 3:\n",
    "                    f.write(f\"{for_excl[i][j][1]}  {for_excl[i][j][0]}  {for_excl[i][j][-1]}  {for_excl[i+1][j][0]}  {for_excl[i+1][j][1]}  {for_excl[i+1][j][2]}\")\n",
    "                    \n",
    "        elif i == len(for_excl) - 1:\n",
    "            for j in range(len(for_excl[i])):   \n",
    "                if len(for_excl[i][j]) == 3:\n",
    "                     f.write(f\"{for_excl[i][j][1]}  {for_excl[i][j][0]}  {for_excl[i][j][-1]}  {for_excl[i-1][j][0]:2}  {for_excl[i-1][j][1]:2} {for_excl[i-1][j][2]:2}\")"
   ]
  },
  {
   "cell_type": "code",
   "execution_count": 154,
   "id": "1ffd867c",
   "metadata": {},
   "outputs": [],
   "source": [
    "from grouping import regroup\n",
    "def exclusions(list_of):\n",
    "    for_excl = []\n",
    "    for i in list_of:\n",
    "        for_excl.append(regroup(i))\n",
    "    for i in range(len(list_of)):\n",
    "        if i % 2 !=0:\n",
    "            for j in range(0,len(list_of[i])):\n",
    "                if j == 0:\n",
    "                    f.write(f\"{list_of[i][j]}  {list_of[i][j+1]}  {list_of[i-1][j+1]}  {list_of[i-1][j]}  {list_of[i+1][j+1]}  {list_of[i+1][j]}\\n\")\n",
    "                elif j == len(list_of[i])-1:\n",
    "                    f.write(f\"{list_of[i][j]}  {list_of[i][j-1]}  {list_of[i-1][j-1]}  {list_of[i-1][j]}  {list_of[i+1][j-1]}  {list_of[i+1][j]}\\n\")\n",
    "                else:\n",
    "                    f.write(f\"{list_of[i][j]}  {list_of[i][j+1]}  {list_of[i-1][j]}  {list_of[i-1][j+1]}  {list_of[i+1][j]}  {list_of[i+1][j+1]}  {list_of[i][j-1]}  {list_of[i-1][j-1]}  {list_of[i+1][j-1]}\\n\")\n",
    "    \n",
    "    for i in range(len(for_excl)):\n",
    "        if i == 0:\n",
    "            for j in range(len(for_excl[i])):\n",
    "                if len(for_excl[i][j]) == 3:\n",
    "                    f.write(f\"{for_excl[i][j][1]}  {for_excl[i][j][0]}  {for_excl[i][j][-1]}  {for_excl[i+1][j][0]}  {for_excl[i+1][j][1]}  {for_excl[i+1][j][2]}\\n\")\n",
    "                    \n",
    "        elif i == len(for_excl) - 1:\n",
    "            for j in range(len(for_excl[i])):   \n",
    "                if len(for_excl[i][j]) == 3:\n",
    "                     f.write(f\"{for_excl[i][j][1]}  {for_excl[i][j][0]}  {for_excl[i][j][-1]}  {for_excl[i-1][j][0]:2}  {for_excl[i-1][j][1]:2} {for_excl[i-1][j][2]:2}\\n\")"
   ]
  },
  {
   "cell_type": "code",
   "execution_count": null,
   "id": "28dae01b",
   "metadata": {},
   "outputs": [],
   "source": []
  }
 ],
 "metadata": {
  "kernelspec": {
   "display_name": "Python 3 (ipykernel)",
   "language": "python",
   "name": "python3"
  },
  "language_info": {
   "codemirror_mode": {
    "name": "ipython",
    "version": 3
   },
   "file_extension": ".py",
   "mimetype": "text/x-python",
   "name": "python",
   "nbconvert_exporter": "python",
   "pygments_lexer": "ipython3",
   "version": "3.9.7"
  }
 },
 "nbformat": 4,
 "nbformat_minor": 5
}
